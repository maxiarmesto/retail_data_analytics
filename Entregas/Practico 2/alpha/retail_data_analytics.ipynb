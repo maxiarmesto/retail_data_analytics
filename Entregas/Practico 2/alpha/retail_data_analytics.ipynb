{
 "cells": [
  {
   "cell_type": "markdown",
   "metadata": {},
   "source": [
    "# Consigna práctico Análisis y Curación: Limpiando un Dataset\n",
    "1. Importando los datos:\n",
    "    - Verificar si no hay problemas en la importación: importar los datos, visualizarlos, análisis de tipos, corrección en los tipos de los datos de entrada.\n",
    "    - Asegurar que el archivo sales posee Ids/Claves únicas. Para el resto de los archivos, ¿tenemos algún atributo que se comporte como clave única?, en caso positivo chequear que no se repite. En caso de no tener una clave única identificatoria, ¿sería relevante asignar una clave única a cada registro?, chequear que no existen datos duplicados para estos casos.\n",
    "    - Despersonalizar los datos y guardarlos en un nuevo archivo. Tener en cuenta nunca modificar los datos crudos u originales.\n",
    "2. Pasos necesarios para limpieza del dataset:\n",
    "    - Etiquetas de variables/columnas: no usar caracteres especiales. Verificar que no haya problemas de codificación/encoding.\n",
    "    - Tratar valores faltantes (NaN).\n",
    "    - Codificar variables: las variables categóricas deberán ser tratadas como variables numéricas.\n",
    "    - Verificar la consistencia de las variables: constatar que los valores de cada atributo tienen sentido, detectar valores que no son consistentes con el resto.\n",
    "    - Identificar valores atípicos en nuestro dataset. ¿Qué es conveniente hacer con ellos? Evaluar cada caso.\n",
    "    - Juntar las columnas de interés en un mismo DataFrame (Sales con Features).\n",
    "    - Para simplificar el problema resamplear los datos ¿Transformar Weekly sales en ventas mensuales?. Graficar la distribución de las ventas mensuales para cada año para 5 tiendas a elección. Comparar sus distribuciones. ¿Se reconoce alguna distribución conocida?\n",
    "    - Analizar correlación entre número departamento y ventas semanales/mensuales, ¿posee alguna incidencia el número de departamento sobre las ventas?, en caso negativo eliminar esta variable de nuestros dataframes.\n",
    "    - Una vez que tenemos las features de interés de nuestro set de datos, aplicar algún método de normalización sobre los mismos, para evitar tener un sesgo de unas variables sobre otra (se pueden utilizar técnicas como z-score/min-max scaling). Guardar el dataset normalizado con un nombre representativo.\n",
    "    - Finalmente, reducir los features de interés mediante sus combinaciones lineales (aplicando Principal Component Analysis). Guardar el dataset con nombre representativo.\n",
    "    - Enumere formas eficientes de guardado y acceso de grandes volúmenes de datos.\n",
    "    - Guardar todos los archivos depurados con nombres representativos.\n",
    "Bonus: entregar el práctico corriendo en una imágen de Docker.\n",
    "\n",
    "Material de lectura recomendado:\n",
    "\n",
    "https://www.machinelearningplus.com/time-series/time-series-analysis-python/\n",
    "\n",
    "https://towardsdatascience.com/playing-with-time-series-data-in-python-959e2485bff8\n",
    "\n",
    "https://sebastianraschka.com/Articles/2014_about_feature_scaling.html"
   ]
  },
  {
   "cell_type": "markdown",
   "metadata": {},
   "source": [
    "## Resolución práctico 2"
   ]
  },
  {
   "cell_type": "code",
   "execution_count": 2,
   "metadata": {},
   "outputs": [],
   "source": [
    "import os\n",
    "import pandas as pd\n",
    "import matplotlib.pyplot as plt\n",
    "import numpy as np\n",
    "import seaborn\n",
    "from scipy import stats"
   ]
  },
  {
   "cell_type": "code",
   "execution_count": 3,
   "metadata": {},
   "outputs": [],
   "source": [
    "CURRENT_DIR = os.path.dirname('__file__')\n",
    "DATASET_PATH = os.path.join(CURRENT_DIR, '../datasets')\n",
    "features = pd.read_csv(os.path.join(DATASET_PATH, 'features.csv'), parse_dates=['Date'])\n",
    "sales = pd.read_csv(os.path.join(DATASET_PATH, 'sales.csv'), parse_dates=['Date'])\n",
    "stores = pd.read_csv(os.path.join(DATASET_PATH, 'stores.csv'))\n",
    "users = pd.read_csv(os.path.join(DATASET_PATH, 'users.csv'))"
   ]
  },
  {
   "cell_type": "markdown",
   "metadata": {},
   "source": [
    "- Primero creamos una copia de los datasets originales."
   ]
  },
  {
   "cell_type": "code",
   "execution_count": 4,
   "metadata": {},
   "outputs": [],
   "source": [
    "sales_1 = sales.copy()\n",
    "stores_1 = stores.copy()\n",
    "features_1 = features.copy()\n",
    "users_1 = users.copy()"
   ]
  },
  {
   "cell_type": "code",
   "execution_count": 5,
   "metadata": {},
   "outputs": [],
   "source": [
    "sales_1.rename(columns={'Sale Id':'Sale_Id'}, inplace=True)\n",
    "#sales_1['Date'] = pd.to_datetime(sales_1['Date'])\n",
    "#features_1['Date'] = pd.to_datetime(features_1['Date'])"
   ]
  },
  {
   "cell_type": "markdown",
   "metadata": {},
   "source": [
    "- Agregamos columna IsMarkdown para los casos en los que hubo descuentos."
   ]
  },
  {
   "cell_type": "code",
   "execution_count": 6,
   "metadata": {},
   "outputs": [],
   "source": [
    "def replace_markdown(val):\n",
    "    return val != 0"
   ]
  },
  {
   "cell_type": "code",
   "execution_count": 7,
   "metadata": {},
   "outputs": [],
   "source": [
    "#Reemplazamos los valores nulos de markdown por 0 en la tabla is_markdown\n",
    "is_markdown = features_1.copy()\n",
    "is_markdown.MarkDown1.fillna(0, inplace=True)\n",
    "is_markdown.MarkDown2.fillna(0, inplace=True)\n",
    "is_markdown.MarkDown3.fillna(0, inplace=True)\n",
    "is_markdown.MarkDown4.fillna(0, inplace=True)\n",
    "is_markdown.MarkDown5.fillna(0, inplace=True)"
   ]
  },
  {
   "cell_type": "code",
   "execution_count": 8,
   "metadata": {},
   "outputs": [],
   "source": [
    "tk = (is_markdown['MarkDown1']+is_markdown['MarkDown2']+is_markdown['MarkDown3']+is_markdown['MarkDown4']+is_markdown['MarkDown5'])\n",
    "\n",
    "is_markdown=is_markdown.assign(IsMarkdown=tk.values)\n",
    "\n",
    "features_1['IsMarkdown']= is_markdown['IsMarkdown'].apply(replace_markdown)"
   ]
  },
  {
   "cell_type": "markdown",
   "metadata": {},
   "source": [
    "- Asegurar que el archivo sales posee Ids/Claves únicas."
   ]
  },
  {
   "cell_type": "code",
   "execution_count": 9,
   "metadata": {},
   "outputs": [
    {
     "data": {
      "text/html": [
       "<div>\n",
       "<style scoped>\n",
       "    .dataframe tbody tr th:only-of-type {\n",
       "        vertical-align: middle;\n",
       "    }\n",
       "\n",
       "    .dataframe tbody tr th {\n",
       "        vertical-align: top;\n",
       "    }\n",
       "\n",
       "    .dataframe thead th {\n",
       "        text-align: right;\n",
       "    }\n",
       "</style>\n",
       "<table border=\"1\" class=\"dataframe\">\n",
       "  <thead>\n",
       "    <tr style=\"text-align: right;\">\n",
       "      <th></th>\n",
       "      <th>Unnamed: 0</th>\n",
       "      <th>Store</th>\n",
       "      <th>Dept</th>\n",
       "      <th>Date</th>\n",
       "      <th>Weekly_Sales</th>\n",
       "      <th>IsHoliday</th>\n",
       "      <th>Sale_Id</th>\n",
       "    </tr>\n",
       "  </thead>\n",
       "  <tbody>\n",
       "    <tr>\n",
       "      <th>425795</th>\n",
       "      <td>425795</td>\n",
       "      <td>45</td>\n",
       "      <td>97</td>\n",
       "      <td>2012-03-08</td>\n",
       "      <td>6779.88</td>\n",
       "      <td>False</td>\n",
       "      <td>421422</td>\n",
       "    </tr>\n",
       "    <tr>\n",
       "      <th>421422</th>\n",
       "      <td>421422</td>\n",
       "      <td>45</td>\n",
       "      <td>97</td>\n",
       "      <td>2012-03-08</td>\n",
       "      <td>6779.88</td>\n",
       "      <td>False</td>\n",
       "      <td>421422</td>\n",
       "    </tr>\n",
       "    <tr>\n",
       "      <th>421263</th>\n",
       "      <td>421263</td>\n",
       "      <td>45</td>\n",
       "      <td>95</td>\n",
       "      <td>2012-04-27</td>\n",
       "      <td>50693.76</td>\n",
       "      <td>False</td>\n",
       "      <td>421263</td>\n",
       "    </tr>\n",
       "    <tr>\n",
       "      <th>425794</th>\n",
       "      <td>425794</td>\n",
       "      <td>45</td>\n",
       "      <td>95</td>\n",
       "      <td>2012-04-27</td>\n",
       "      <td>50693.76</td>\n",
       "      <td>False</td>\n",
       "      <td>421263</td>\n",
       "    </tr>\n",
       "    <tr>\n",
       "      <th>421198</th>\n",
       "      <td>421198</td>\n",
       "      <td>45</td>\n",
       "      <td>95</td>\n",
       "      <td>2011-01-28</td>\n",
       "      <td>45751.50</td>\n",
       "      <td>False</td>\n",
       "      <td>421198</td>\n",
       "    </tr>\n",
       "    <tr>\n",
       "      <th>425793</th>\n",
       "      <td>425793</td>\n",
       "      <td>45</td>\n",
       "      <td>95</td>\n",
       "      <td>2011-01-28</td>\n",
       "      <td>45751.50</td>\n",
       "      <td>False</td>\n",
       "      <td>421198</td>\n",
       "    </tr>\n",
       "    <tr>\n",
       "      <th>421181</th>\n",
       "      <td>421181</td>\n",
       "      <td>45</td>\n",
       "      <td>95</td>\n",
       "      <td>2010-01-10</td>\n",
       "      <td>46860.82</td>\n",
       "      <td>False</td>\n",
       "      <td>421181</td>\n",
       "    </tr>\n",
       "    <tr>\n",
       "      <th>425792</th>\n",
       "      <td>425792</td>\n",
       "      <td>45</td>\n",
       "      <td>95</td>\n",
       "      <td>2010-01-10</td>\n",
       "      <td>46860.82</td>\n",
       "      <td>False</td>\n",
       "      <td>421181</td>\n",
       "    </tr>\n",
       "    <tr>\n",
       "      <th>425791</th>\n",
       "      <td>425791</td>\n",
       "      <td>45</td>\n",
       "      <td>93</td>\n",
       "      <td>2012-10-19</td>\n",
       "      <td>2270.50</td>\n",
       "      <td>NaN</td>\n",
       "      <td>421011</td>\n",
       "    </tr>\n",
       "    <tr>\n",
       "      <th>421011</th>\n",
       "      <td>421011</td>\n",
       "      <td>45</td>\n",
       "      <td>93</td>\n",
       "      <td>2012-10-19</td>\n",
       "      <td>2270.50</td>\n",
       "      <td>NaN</td>\n",
       "      <td>421011</td>\n",
       "    </tr>\n",
       "    <tr>\n",
       "      <th>425790</th>\n",
       "      <td>425790</td>\n",
       "      <td>45</td>\n",
       "      <td>93</td>\n",
       "      <td>2011-04-03</td>\n",
       "      <td>1886.44</td>\n",
       "      <td>False</td>\n",
       "      <td>420926</td>\n",
       "    </tr>\n",
       "    <tr>\n",
       "      <th>420926</th>\n",
       "      <td>420926</td>\n",
       "      <td>45</td>\n",
       "      <td>93</td>\n",
       "      <td>2011-04-03</td>\n",
       "      <td>1886.44</td>\n",
       "      <td>False</td>\n",
       "      <td>420926</td>\n",
       "    </tr>\n",
       "    <tr>\n",
       "      <th>420856</th>\n",
       "      <td>420856</td>\n",
       "      <td>45</td>\n",
       "      <td>92</td>\n",
       "      <td>2012-07-27</td>\n",
       "      <td>44551.11</td>\n",
       "      <td>False</td>\n",
       "      <td>420856</td>\n",
       "    </tr>\n",
       "    <tr>\n",
       "      <th>425789</th>\n",
       "      <td>425789</td>\n",
       "      <td>45</td>\n",
       "      <td>92</td>\n",
       "      <td>2012-07-27</td>\n",
       "      <td>44551.11</td>\n",
       "      <td>False</td>\n",
       "      <td>420856</td>\n",
       "    </tr>\n",
       "    <tr>\n",
       "      <th>420849</th>\n",
       "      <td>420849</td>\n",
       "      <td>45</td>\n",
       "      <td>92</td>\n",
       "      <td>2012-08-06</td>\n",
       "      <td>50688.59</td>\n",
       "      <td>False</td>\n",
       "      <td>420849</td>\n",
       "    </tr>\n",
       "    <tr>\n",
       "      <th>425788</th>\n",
       "      <td>425788</td>\n",
       "      <td>45</td>\n",
       "      <td>92</td>\n",
       "      <td>2012-08-06</td>\n",
       "      <td>50688.59</td>\n",
       "      <td>False</td>\n",
       "      <td>420849</td>\n",
       "    </tr>\n",
       "    <tr>\n",
       "      <th>425787</th>\n",
       "      <td>425787</td>\n",
       "      <td>45</td>\n",
       "      <td>92</td>\n",
       "      <td>2011-11-18</td>\n",
       "      <td>54868.94</td>\n",
       "      <td>False</td>\n",
       "      <td>420820</td>\n",
       "    </tr>\n",
       "    <tr>\n",
       "      <th>420820</th>\n",
       "      <td>420820</td>\n",
       "      <td>45</td>\n",
       "      <td>92</td>\n",
       "      <td>2011-11-18</td>\n",
       "      <td>54868.94</td>\n",
       "      <td>False</td>\n",
       "      <td>420820</td>\n",
       "    </tr>\n",
       "    <tr>\n",
       "      <th>425786</th>\n",
       "      <td>425786</td>\n",
       "      <td>45</td>\n",
       "      <td>92</td>\n",
       "      <td>2010-10-22</td>\n",
       "      <td>46663.68</td>\n",
       "      <td>False</td>\n",
       "      <td>420764</td>\n",
       "    </tr>\n",
       "    <tr>\n",
       "      <th>420764</th>\n",
       "      <td>420764</td>\n",
       "      <td>45</td>\n",
       "      <td>92</td>\n",
       "      <td>2010-10-22</td>\n",
       "      <td>46663.68</td>\n",
       "      <td>False</td>\n",
       "      <td>420764</td>\n",
       "    </tr>\n",
       "    <tr>\n",
       "      <th>425785</th>\n",
       "      <td>425785</td>\n",
       "      <td>45</td>\n",
       "      <td>90</td>\n",
       "      <td>2012-07-20</td>\n",
       "      <td>23035.84</td>\n",
       "      <td>False</td>\n",
       "      <td>420569</td>\n",
       "    </tr>\n",
       "    <tr>\n",
       "      <th>420569</th>\n",
       "      <td>420569</td>\n",
       "      <td>45</td>\n",
       "      <td>90</td>\n",
       "      <td>2012-07-20</td>\n",
       "      <td>23035.84</td>\n",
       "      <td>False</td>\n",
       "      <td>420569</td>\n",
       "    </tr>\n",
       "    <tr>\n",
       "      <th>425784</th>\n",
       "      <td>425784</td>\n",
       "      <td>45</td>\n",
       "      <td>90</td>\n",
       "      <td>2010-05-03</td>\n",
       "      <td>22653.30</td>\n",
       "      <td>False</td>\n",
       "      <td>420445</td>\n",
       "    </tr>\n",
       "    <tr>\n",
       "      <th>420445</th>\n",
       "      <td>420445</td>\n",
       "      <td>45</td>\n",
       "      <td>90</td>\n",
       "      <td>2010-05-03</td>\n",
       "      <td>22653.30</td>\n",
       "      <td>False</td>\n",
       "      <td>420445</td>\n",
       "    </tr>\n",
       "    <tr>\n",
       "      <th>425783</th>\n",
       "      <td>425783</td>\n",
       "      <td>45</td>\n",
       "      <td>87</td>\n",
       "      <td>2012-02-24</td>\n",
       "      <td>7224.30</td>\n",
       "      <td>False</td>\n",
       "      <td>420405</td>\n",
       "    </tr>\n",
       "    <tr>\n",
       "      <th>420405</th>\n",
       "      <td>420405</td>\n",
       "      <td>45</td>\n",
       "      <td>87</td>\n",
       "      <td>2012-02-24</td>\n",
       "      <td>7224.30</td>\n",
       "      <td>False</td>\n",
       "      <td>420405</td>\n",
       "    </tr>\n",
       "    <tr>\n",
       "      <th>425782</th>\n",
       "      <td>425782</td>\n",
       "      <td>45</td>\n",
       "      <td>87</td>\n",
       "      <td>2011-12-23</td>\n",
       "      <td>10939.66</td>\n",
       "      <td>False</td>\n",
       "      <td>420396</td>\n",
       "    </tr>\n",
       "    <tr>\n",
       "      <th>420396</th>\n",
       "      <td>420396</td>\n",
       "      <td>45</td>\n",
       "      <td>87</td>\n",
       "      <td>2011-12-23</td>\n",
       "      <td>10939.66</td>\n",
       "      <td>False</td>\n",
       "      <td>420396</td>\n",
       "    </tr>\n",
       "    <tr>\n",
       "      <th>420320</th>\n",
       "      <td>420320</td>\n",
       "      <td>45</td>\n",
       "      <td>87</td>\n",
       "      <td>2010-09-07</td>\n",
       "      <td>6331.09</td>\n",
       "      <td>NaN</td>\n",
       "      <td>420320</td>\n",
       "    </tr>\n",
       "    <tr>\n",
       "      <th>425781</th>\n",
       "      <td>425781</td>\n",
       "      <td>45</td>\n",
       "      <td>87</td>\n",
       "      <td>2010-09-07</td>\n",
       "      <td>6331.09</td>\n",
       "      <td>NaN</td>\n",
       "      <td>420320</td>\n",
       "    </tr>\n",
       "    <tr>\n",
       "      <th>...</th>\n",
       "      <td>...</td>\n",
       "      <td>...</td>\n",
       "      <td>...</td>\n",
       "      <td>...</td>\n",
       "      <td>...</td>\n",
       "      <td>...</td>\n",
       "      <td>...</td>\n",
       "    </tr>\n",
       "    <tr>\n",
       "      <th>1469</th>\n",
       "      <td>1469</td>\n",
       "      <td>1</td>\n",
       "      <td>11</td>\n",
       "      <td>2010-05-11</td>\n",
       "      <td>25063.26</td>\n",
       "      <td>False</td>\n",
       "      <td>1469</td>\n",
       "    </tr>\n",
       "    <tr>\n",
       "      <th>421584</th>\n",
       "      <td>421584</td>\n",
       "      <td>1</td>\n",
       "      <td>11</td>\n",
       "      <td>2010-05-11</td>\n",
       "      <td>25063.26</td>\n",
       "      <td>False</td>\n",
       "      <td>1469</td>\n",
       "    </tr>\n",
       "    <tr>\n",
       "      <th>421583</th>\n",
       "      <td>421583</td>\n",
       "      <td>1</td>\n",
       "      <td>11</td>\n",
       "      <td>2010-03-26</td>\n",
       "      <td>17592.13</td>\n",
       "      <td>False</td>\n",
       "      <td>1437</td>\n",
       "    </tr>\n",
       "    <tr>\n",
       "      <th>1437</th>\n",
       "      <td>1437</td>\n",
       "      <td>1</td>\n",
       "      <td>11</td>\n",
       "      <td>2010-03-26</td>\n",
       "      <td>17592.13</td>\n",
       "      <td>False</td>\n",
       "      <td>1437</td>\n",
       "    </tr>\n",
       "    <tr>\n",
       "      <th>421582</th>\n",
       "      <td>421582</td>\n",
       "      <td>1</td>\n",
       "      <td>10</td>\n",
       "      <td>2011-06-24</td>\n",
       "      <td>29831.79</td>\n",
       "      <td>False</td>\n",
       "      <td>1359</td>\n",
       "    </tr>\n",
       "    <tr>\n",
       "      <th>1359</th>\n",
       "      <td>1359</td>\n",
       "      <td>1</td>\n",
       "      <td>10</td>\n",
       "      <td>2011-06-24</td>\n",
       "      <td>29831.79</td>\n",
       "      <td>False</td>\n",
       "      <td>1359</td>\n",
       "    </tr>\n",
       "    <tr>\n",
       "      <th>421581</th>\n",
       "      <td>421581</td>\n",
       "      <td>1</td>\n",
       "      <td>10</td>\n",
       "      <td>2010-12-11</td>\n",
       "      <td>26288.47</td>\n",
       "      <td>False</td>\n",
       "      <td>1327</td>\n",
       "    </tr>\n",
       "    <tr>\n",
       "      <th>1327</th>\n",
       "      <td>1327</td>\n",
       "      <td>1</td>\n",
       "      <td>10</td>\n",
       "      <td>2010-12-11</td>\n",
       "      <td>26288.47</td>\n",
       "      <td>False</td>\n",
       "      <td>1327</td>\n",
       "    </tr>\n",
       "    <tr>\n",
       "      <th>421580</th>\n",
       "      <td>421580</td>\n",
       "      <td>1</td>\n",
       "      <td>5</td>\n",
       "      <td>2011-10-28</td>\n",
       "      <td>26391.79</td>\n",
       "      <td>False</td>\n",
       "      <td>662</td>\n",
       "    </tr>\n",
       "    <tr>\n",
       "      <th>662</th>\n",
       "      <td>662</td>\n",
       "      <td>1</td>\n",
       "      <td>5</td>\n",
       "      <td>2011-10-28</td>\n",
       "      <td>26391.79</td>\n",
       "      <td>False</td>\n",
       "      <td>662</td>\n",
       "    </tr>\n",
       "    <tr>\n",
       "      <th>421579</th>\n",
       "      <td>421579</td>\n",
       "      <td>1</td>\n",
       "      <td>5</td>\n",
       "      <td>2011-07-29</td>\n",
       "      <td>17406.68</td>\n",
       "      <td>False</td>\n",
       "      <td>649</td>\n",
       "    </tr>\n",
       "    <tr>\n",
       "      <th>649</th>\n",
       "      <td>649</td>\n",
       "      <td>1</td>\n",
       "      <td>5</td>\n",
       "      <td>2011-07-29</td>\n",
       "      <td>17406.68</td>\n",
       "      <td>False</td>\n",
       "      <td>649</td>\n",
       "    </tr>\n",
       "    <tr>\n",
       "      <th>421578</th>\n",
       "      <td>421578</td>\n",
       "      <td>1</td>\n",
       "      <td>4</td>\n",
       "      <td>2012-07-20</td>\n",
       "      <td>38080.05</td>\n",
       "      <td>False</td>\n",
       "      <td>557</td>\n",
       "    </tr>\n",
       "    <tr>\n",
       "      <th>557</th>\n",
       "      <td>557</td>\n",
       "      <td>1</td>\n",
       "      <td>4</td>\n",
       "      <td>2012-07-20</td>\n",
       "      <td>38080.05</td>\n",
       "      <td>False</td>\n",
       "      <td>557</td>\n",
       "    </tr>\n",
       "    <tr>\n",
       "      <th>421577</th>\n",
       "      <td>421577</td>\n",
       "      <td>1</td>\n",
       "      <td>4</td>\n",
       "      <td>2012-01-13</td>\n",
       "      <td>36582.36</td>\n",
       "      <td>False</td>\n",
       "      <td>530</td>\n",
       "    </tr>\n",
       "    <tr>\n",
       "      <th>530</th>\n",
       "      <td>530</td>\n",
       "      <td>1</td>\n",
       "      <td>4</td>\n",
       "      <td>2012-01-13</td>\n",
       "      <td>36582.36</td>\n",
       "      <td>False</td>\n",
       "      <td>530</td>\n",
       "    </tr>\n",
       "    <tr>\n",
       "      <th>504</th>\n",
       "      <td>504</td>\n",
       "      <td>1</td>\n",
       "      <td>4</td>\n",
       "      <td>2011-07-15</td>\n",
       "      <td>33930.80</td>\n",
       "      <td>False</td>\n",
       "      <td>504</td>\n",
       "    </tr>\n",
       "    <tr>\n",
       "      <th>421576</th>\n",
       "      <td>421576</td>\n",
       "      <td>1</td>\n",
       "      <td>4</td>\n",
       "      <td>2011-07-15</td>\n",
       "      <td>33930.80</td>\n",
       "      <td>False</td>\n",
       "      <td>504</td>\n",
       "    </tr>\n",
       "    <tr>\n",
       "      <th>421575</th>\n",
       "      <td>421575</td>\n",
       "      <td>1</td>\n",
       "      <td>2</td>\n",
       "      <td>2010-04-16</td>\n",
       "      <td>45025.02</td>\n",
       "      <td>False</td>\n",
       "      <td>153</td>\n",
       "    </tr>\n",
       "    <tr>\n",
       "      <th>153</th>\n",
       "      <td>153</td>\n",
       "      <td>1</td>\n",
       "      <td>2</td>\n",
       "      <td>2010-04-16</td>\n",
       "      <td>45025.02</td>\n",
       "      <td>False</td>\n",
       "      <td>153</td>\n",
       "    </tr>\n",
       "    <tr>\n",
       "      <th>421574</th>\n",
       "      <td>421574</td>\n",
       "      <td>1</td>\n",
       "      <td>2</td>\n",
       "      <td>2010-03-19</td>\n",
       "      <td>43615.49</td>\n",
       "      <td>False</td>\n",
       "      <td>149</td>\n",
       "    </tr>\n",
       "    <tr>\n",
       "      <th>149</th>\n",
       "      <td>149</td>\n",
       "      <td>1</td>\n",
       "      <td>2</td>\n",
       "      <td>2010-03-19</td>\n",
       "      <td>43615.49</td>\n",
       "      <td>False</td>\n",
       "      <td>149</td>\n",
       "    </tr>\n",
       "    <tr>\n",
       "      <th>421573</th>\n",
       "      <td>421573</td>\n",
       "      <td>1</td>\n",
       "      <td>1</td>\n",
       "      <td>2012-10-26</td>\n",
       "      <td>27390.81</td>\n",
       "      <td>False</td>\n",
       "      <td>142</td>\n",
       "    </tr>\n",
       "    <tr>\n",
       "      <th>142</th>\n",
       "      <td>142</td>\n",
       "      <td>1</td>\n",
       "      <td>1</td>\n",
       "      <td>2012-10-26</td>\n",
       "      <td>27390.81</td>\n",
       "      <td>False</td>\n",
       "      <td>142</td>\n",
       "    </tr>\n",
       "    <tr>\n",
       "      <th>136</th>\n",
       "      <td>136</td>\n",
       "      <td>1</td>\n",
       "      <td>1</td>\n",
       "      <td>2012-09-14</td>\n",
       "      <td>19616.22</td>\n",
       "      <td>False</td>\n",
       "      <td>136</td>\n",
       "    </tr>\n",
       "    <tr>\n",
       "      <th>421572</th>\n",
       "      <td>421572</td>\n",
       "      <td>1</td>\n",
       "      <td>1</td>\n",
       "      <td>2012-09-14</td>\n",
       "      <td>19616.22</td>\n",
       "      <td>False</td>\n",
       "      <td>136</td>\n",
       "    </tr>\n",
       "    <tr>\n",
       "      <th>421571</th>\n",
       "      <td>421571</td>\n",
       "      <td>1</td>\n",
       "      <td>1</td>\n",
       "      <td>2011-09-09</td>\n",
       "      <td>17746.68</td>\n",
       "      <td>True</td>\n",
       "      <td>83</td>\n",
       "    </tr>\n",
       "    <tr>\n",
       "      <th>83</th>\n",
       "      <td>83</td>\n",
       "      <td>1</td>\n",
       "      <td>1</td>\n",
       "      <td>2011-09-09</td>\n",
       "      <td>17746.68</td>\n",
       "      <td>True</td>\n",
       "      <td>83</td>\n",
       "    </tr>\n",
       "    <tr>\n",
       "      <th>51</th>\n",
       "      <td>51</td>\n",
       "      <td>1</td>\n",
       "      <td>1</td>\n",
       "      <td>2011-01-28</td>\n",
       "      <td>18461.18</td>\n",
       "      <td>False</td>\n",
       "      <td>51</td>\n",
       "    </tr>\n",
       "    <tr>\n",
       "      <th>421570</th>\n",
       "      <td>421570</td>\n",
       "      <td>1</td>\n",
       "      <td>1</td>\n",
       "      <td>2011-01-28</td>\n",
       "      <td>18461.18</td>\n",
       "      <td>False</td>\n",
       "      <td>51</td>\n",
       "    </tr>\n",
       "  </tbody>\n",
       "</table>\n",
       "<p>8452 rows × 7 columns</p>\n",
       "</div>"
      ],
      "text/plain": [
       "        Unnamed: 0  Store  Dept       Date  Weekly_Sales IsHoliday  Sale_Id\n",
       "425795      425795     45    97 2012-03-08       6779.88     False   421422\n",
       "421422      421422     45    97 2012-03-08       6779.88     False   421422\n",
       "421263      421263     45    95 2012-04-27      50693.76     False   421263\n",
       "425794      425794     45    95 2012-04-27      50693.76     False   421263\n",
       "421198      421198     45    95 2011-01-28      45751.50     False   421198\n",
       "425793      425793     45    95 2011-01-28      45751.50     False   421198\n",
       "421181      421181     45    95 2010-01-10      46860.82     False   421181\n",
       "425792      425792     45    95 2010-01-10      46860.82     False   421181\n",
       "425791      425791     45    93 2012-10-19       2270.50       NaN   421011\n",
       "421011      421011     45    93 2012-10-19       2270.50       NaN   421011\n",
       "425790      425790     45    93 2011-04-03       1886.44     False   420926\n",
       "420926      420926     45    93 2011-04-03       1886.44     False   420926\n",
       "420856      420856     45    92 2012-07-27      44551.11     False   420856\n",
       "425789      425789     45    92 2012-07-27      44551.11     False   420856\n",
       "420849      420849     45    92 2012-08-06      50688.59     False   420849\n",
       "425788      425788     45    92 2012-08-06      50688.59     False   420849\n",
       "425787      425787     45    92 2011-11-18      54868.94     False   420820\n",
       "420820      420820     45    92 2011-11-18      54868.94     False   420820\n",
       "425786      425786     45    92 2010-10-22      46663.68     False   420764\n",
       "420764      420764     45    92 2010-10-22      46663.68     False   420764\n",
       "425785      425785     45    90 2012-07-20      23035.84     False   420569\n",
       "420569      420569     45    90 2012-07-20      23035.84     False   420569\n",
       "425784      425784     45    90 2010-05-03      22653.30     False   420445\n",
       "420445      420445     45    90 2010-05-03      22653.30     False   420445\n",
       "425783      425783     45    87 2012-02-24       7224.30     False   420405\n",
       "420405      420405     45    87 2012-02-24       7224.30     False   420405\n",
       "425782      425782     45    87 2011-12-23      10939.66     False   420396\n",
       "420396      420396     45    87 2011-12-23      10939.66     False   420396\n",
       "420320      420320     45    87 2010-09-07       6331.09       NaN   420320\n",
       "425781      425781     45    87 2010-09-07       6331.09       NaN   420320\n",
       "...            ...    ...   ...        ...           ...       ...      ...\n",
       "1469          1469      1    11 2010-05-11      25063.26     False     1469\n",
       "421584      421584      1    11 2010-05-11      25063.26     False     1469\n",
       "421583      421583      1    11 2010-03-26      17592.13     False     1437\n",
       "1437          1437      1    11 2010-03-26      17592.13     False     1437\n",
       "421582      421582      1    10 2011-06-24      29831.79     False     1359\n",
       "1359          1359      1    10 2011-06-24      29831.79     False     1359\n",
       "421581      421581      1    10 2010-12-11      26288.47     False     1327\n",
       "1327          1327      1    10 2010-12-11      26288.47     False     1327\n",
       "421580      421580      1     5 2011-10-28      26391.79     False      662\n",
       "662            662      1     5 2011-10-28      26391.79     False      662\n",
       "421579      421579      1     5 2011-07-29      17406.68     False      649\n",
       "649            649      1     5 2011-07-29      17406.68     False      649\n",
       "421578      421578      1     4 2012-07-20      38080.05     False      557\n",
       "557            557      1     4 2012-07-20      38080.05     False      557\n",
       "421577      421577      1     4 2012-01-13      36582.36     False      530\n",
       "530            530      1     4 2012-01-13      36582.36     False      530\n",
       "504            504      1     4 2011-07-15      33930.80     False      504\n",
       "421576      421576      1     4 2011-07-15      33930.80     False      504\n",
       "421575      421575      1     2 2010-04-16      45025.02     False      153\n",
       "153            153      1     2 2010-04-16      45025.02     False      153\n",
       "421574      421574      1     2 2010-03-19      43615.49     False      149\n",
       "149            149      1     2 2010-03-19      43615.49     False      149\n",
       "421573      421573      1     1 2012-10-26      27390.81     False      142\n",
       "142            142      1     1 2012-10-26      27390.81     False      142\n",
       "136            136      1     1 2012-09-14      19616.22     False      136\n",
       "421572      421572      1     1 2012-09-14      19616.22     False      136\n",
       "421571      421571      1     1 2011-09-09      17746.68      True       83\n",
       "83              83      1     1 2011-09-09      17746.68      True       83\n",
       "51              51      1     1 2011-01-28      18461.18     False       51\n",
       "421570      421570      1     1 2011-01-28      18461.18     False       51\n",
       "\n",
       "[8452 rows x 7 columns]"
      ]
     },
     "execution_count": 9,
     "metadata": {},
     "output_type": "execute_result"
    }
   ],
   "source": [
    "a=sales_1[sales_1.duplicated(subset='Sale_Id', keep=False)]\n",
    "#sales.duplicated(subset='Sale_Id')\n",
    "a.sort_values(by='Sale_Id', ascending=False)"
   ]
  },
  {
   "cell_type": "markdown",
   "metadata": {},
   "source": [
    "Tal como se observa en la tabla anterior, el archivo sales tiene 8452 filas duplicadas.\n",
    "- Para el caso de **features** clave única podría ser la unión de los atributos Store+Date ya que dicha combinacion no debiera tener duplicados.\n",
    "- Para el caso de **stores** la columna Store deberia ser una clave única sin duplicados.\n",
    "- En la tabla **users** el atributo que se comporta como clave unica es la columna users\n"
   ]
  },
  {
   "cell_type": "code",
   "execution_count": 10,
   "metadata": {},
   "outputs": [
    {
     "data": {
      "text/html": [
       "<div>\n",
       "<style scoped>\n",
       "    .dataframe tbody tr th:only-of-type {\n",
       "        vertical-align: middle;\n",
       "    }\n",
       "\n",
       "    .dataframe tbody tr th {\n",
       "        vertical-align: top;\n",
       "    }\n",
       "\n",
       "    .dataframe thead th {\n",
       "        text-align: right;\n",
       "    }\n",
       "</style>\n",
       "<table border=\"1\" class=\"dataframe\">\n",
       "  <thead>\n",
       "    <tr style=\"text-align: right;\">\n",
       "      <th></th>\n",
       "      <th>Unnamed: 0</th>\n",
       "      <th>Store</th>\n",
       "      <th>Type</th>\n",
       "      <th>Size</th>\n",
       "    </tr>\n",
       "  </thead>\n",
       "  <tbody>\n",
       "  </tbody>\n",
       "</table>\n",
       "</div>"
      ],
      "text/plain": [
       "Empty DataFrame\n",
       "Columns: [Unnamed: 0, Store, Type, Size]\n",
       "Index: []"
      ]
     },
     "execution_count": 10,
     "metadata": {},
     "output_type": "execute_result"
    }
   ],
   "source": [
    "stores_1[stores_1.duplicated(subset='Store', keep=False)]\n"
   ]
  },
  {
   "cell_type": "code",
   "execution_count": 11,
   "metadata": {},
   "outputs": [
    {
     "data": {
      "text/html": [
       "<div>\n",
       "<style scoped>\n",
       "    .dataframe tbody tr th:only-of-type {\n",
       "        vertical-align: middle;\n",
       "    }\n",
       "\n",
       "    .dataframe tbody tr th {\n",
       "        vertical-align: top;\n",
       "    }\n",
       "\n",
       "    .dataframe thead th {\n",
       "        text-align: right;\n",
       "    }\n",
       "</style>\n",
       "<table border=\"1\" class=\"dataframe\">\n",
       "  <thead>\n",
       "    <tr style=\"text-align: right;\">\n",
       "      <th></th>\n",
       "      <th>Unnamed: 0</th>\n",
       "      <th>users</th>\n",
       "      <th>stores</th>\n",
       "    </tr>\n",
       "  </thead>\n",
       "  <tbody>\n",
       "  </tbody>\n",
       "</table>\n",
       "</div>"
      ],
      "text/plain": [
       "Empty DataFrame\n",
       "Columns: [Unnamed: 0, users, stores]\n",
       "Index: []"
      ]
     },
     "execution_count": 11,
     "metadata": {},
     "output_type": "execute_result"
    }
   ],
   "source": [
    "users_1[users_1.duplicated(subset='Unnamed: 0', keep=False)]"
   ]
  },
  {
   "cell_type": "code",
   "execution_count": 12,
   "metadata": {},
   "outputs": [
    {
     "data": {
      "text/html": [
       "<div>\n",
       "<style scoped>\n",
       "    .dataframe tbody tr th:only-of-type {\n",
       "        vertical-align: middle;\n",
       "    }\n",
       "\n",
       "    .dataframe tbody tr th {\n",
       "        vertical-align: top;\n",
       "    }\n",
       "\n",
       "    .dataframe thead th {\n",
       "        text-align: right;\n",
       "    }\n",
       "</style>\n",
       "<table border=\"1\" class=\"dataframe\">\n",
       "  <thead>\n",
       "    <tr style=\"text-align: right;\">\n",
       "      <th></th>\n",
       "      <th>Unnamed: 0</th>\n",
       "      <th>users</th>\n",
       "      <th>stores</th>\n",
       "    </tr>\n",
       "  </thead>\n",
       "  <tbody>\n",
       "  </tbody>\n",
       "</table>\n",
       "</div>"
      ],
      "text/plain": [
       "Empty DataFrame\n",
       "Columns: [Unnamed: 0, users, stores]\n",
       "Index: []"
      ]
     },
     "execution_count": 12,
     "metadata": {},
     "output_type": "execute_result"
    }
   ],
   "source": [
    "users_1[users_1.duplicated(subset='users', keep=False)]"
   ]
  },
  {
   "cell_type": "code",
   "execution_count": 13,
   "metadata": {},
   "outputs": [],
   "source": [
    "features_1['Col3']=features_1['Store'].map(str) + features_1['Date'].map(str) #creamos campo de clave unica"
   ]
  },
  {
   "cell_type": "code",
   "execution_count": 14,
   "metadata": {},
   "outputs": [
    {
     "data": {
      "text/html": [
       "<div>\n",
       "<style scoped>\n",
       "    .dataframe tbody tr th:only-of-type {\n",
       "        vertical-align: middle;\n",
       "    }\n",
       "\n",
       "    .dataframe tbody tr th {\n",
       "        vertical-align: top;\n",
       "    }\n",
       "\n",
       "    .dataframe thead th {\n",
       "        text-align: right;\n",
       "    }\n",
       "</style>\n",
       "<table border=\"1\" class=\"dataframe\">\n",
       "  <thead>\n",
       "    <tr style=\"text-align: right;\">\n",
       "      <th></th>\n",
       "      <th>Unnamed: 0</th>\n",
       "      <th>Store</th>\n",
       "      <th>Date</th>\n",
       "      <th>Temperature</th>\n",
       "      <th>Fuel_Price</th>\n",
       "      <th>MarkDown1</th>\n",
       "      <th>MarkDown2</th>\n",
       "      <th>MarkDown3</th>\n",
       "      <th>MarkDown4</th>\n",
       "      <th>MarkDown5</th>\n",
       "      <th>CPI</th>\n",
       "      <th>Unemployment</th>\n",
       "      <th>IsHoliday</th>\n",
       "      <th>IsMarkdown</th>\n",
       "      <th>Col3</th>\n",
       "    </tr>\n",
       "  </thead>\n",
       "  <tbody>\n",
       "  </tbody>\n",
       "</table>\n",
       "</div>"
      ],
      "text/plain": [
       "Empty DataFrame\n",
       "Columns: [Unnamed: 0, Store, Date, Temperature, Fuel_Price, MarkDown1, MarkDown2, MarkDown3, MarkDown4, MarkDown5, CPI, Unemployment, IsHoliday, IsMarkdown, Col3]\n",
       "Index: []"
      ]
     },
     "execution_count": 14,
     "metadata": {},
     "output_type": "execute_result"
    }
   ],
   "source": [
    "features_1[features_1.duplicated(subset='Col3', keep=False)]"
   ]
  },
  {
   "cell_type": "markdown",
   "metadata": {},
   "source": [
    "Tal como puede verse ninguna de estas tres tablas de datos tiene valores duplicados en sus columnas de índices"
   ]
  },
  {
   "cell_type": "markdown",
   "metadata": {},
   "source": [
    "### Despersonalizar los datos y guardarlos en un nuevo archivo"
   ]
  },
  {
   "cell_type": "code",
   "execution_count": 15,
   "metadata": {},
   "outputs": [],
   "source": [
    "# Despersonalizar los datos y guardarlos en un nuevo archivo. Tener en cuenta nunca modificar los datos crudos u originales\n",
    "users1=users[['Unnamed: 0', 'stores']]"
   ]
  },
  {
   "cell_type": "code",
   "execution_count": 16,
   "metadata": {},
   "outputs": [],
   "source": [
    "from hashlib import md5"
   ]
  },
  {
   "cell_type": "code",
   "execution_count": 17,
   "metadata": {},
   "outputs": [],
   "source": [
    "def hashit(val):\n",
    "    return md5(val.encode('utf-8'))\n",
    "\n",
    "users_1['users']=users_1['users'].apply(hashit)\n"
   ]
  },
  {
   "cell_type": "code",
   "execution_count": 18,
   "metadata": {
    "scrolled": true
   },
   "outputs": [
    {
     "data": {
      "text/html": [
       "<div>\n",
       "<style scoped>\n",
       "    .dataframe tbody tr th:only-of-type {\n",
       "        vertical-align: middle;\n",
       "    }\n",
       "\n",
       "    .dataframe tbody tr th {\n",
       "        vertical-align: top;\n",
       "    }\n",
       "\n",
       "    .dataframe thead th {\n",
       "        text-align: right;\n",
       "    }\n",
       "</style>\n",
       "<table border=\"1\" class=\"dataframe\">\n",
       "  <thead>\n",
       "    <tr style=\"text-align: right;\">\n",
       "      <th></th>\n",
       "      <th>Unnamed: 0</th>\n",
       "      <th>users</th>\n",
       "      <th>stores</th>\n",
       "    </tr>\n",
       "  </thead>\n",
       "  <tbody>\n",
       "    <tr>\n",
       "      <th>0</th>\n",
       "      <td>0</td>\n",
       "      <td>&lt;md5 HASH object @ 0x10c755788&gt;</td>\n",
       "      <td>16-32-7-44</td>\n",
       "    </tr>\n",
       "    <tr>\n",
       "      <th>1</th>\n",
       "      <td>1</td>\n",
       "      <td>&lt;md5 HASH object @ 0x10c755b48&gt;</td>\n",
       "      <td>20-37-10-11</td>\n",
       "    </tr>\n",
       "    <tr>\n",
       "      <th>2</th>\n",
       "      <td>2</td>\n",
       "      <td>&lt;md5 HASH object @ 0x10c755b20&gt;</td>\n",
       "      <td>34-14-18-16-29</td>\n",
       "    </tr>\n",
       "    <tr>\n",
       "      <th>3</th>\n",
       "      <td>3</td>\n",
       "      <td>&lt;md5 HASH object @ 0x10c755b70&gt;</td>\n",
       "      <td>22-14-39-25</td>\n",
       "    </tr>\n",
       "    <tr>\n",
       "      <th>4</th>\n",
       "      <td>4</td>\n",
       "      <td>&lt;md5 HASH object @ 0x10c755b98&gt;</td>\n",
       "      <td>31-7-27-21-13</td>\n",
       "    </tr>\n",
       "  </tbody>\n",
       "</table>\n",
       "</div>"
      ],
      "text/plain": [
       "   Unnamed: 0                            users          stores\n",
       "0           0  <md5 HASH object @ 0x10c755788>      16-32-7-44\n",
       "1           1  <md5 HASH object @ 0x10c755b48>     20-37-10-11\n",
       "2           2  <md5 HASH object @ 0x10c755b20>  34-14-18-16-29\n",
       "3           3  <md5 HASH object @ 0x10c755b70>     22-14-39-25\n",
       "4           4  <md5 HASH object @ 0x10c755b98>   31-7-27-21-13"
      ]
     },
     "execution_count": 18,
     "metadata": {},
     "output_type": "execute_result"
    }
   ],
   "source": [
    "users_1.head(5)"
   ]
  },
  {
   "cell_type": "code",
   "execution_count": 19,
   "metadata": {},
   "outputs": [],
   "source": [
    "# Etiquetas de variables/columnas: no usar caracteres especiales. Verificar que no haya problemas de codificación/encoding."
   ]
  },
  {
   "cell_type": "markdown",
   "metadata": {},
   "source": [
    "- Asegurar que las etiquetas de las variables no contengan caracteres especiales."
   ]
  },
  {
   "cell_type": "code",
   "execution_count": 20,
   "metadata": {},
   "outputs": [
    {
     "data": {
      "text/plain": [
       "Index(['Unnamed: 0'], dtype='object')"
      ]
     },
     "execution_count": 20,
     "metadata": {},
     "output_type": "execute_result"
    }
   ],
   "source": [
    "char_regex = r'^(\\w+)$'\n",
    "sales_1.columns[~sales_1.columns.str.match(char_regex)]"
   ]
  },
  {
   "cell_type": "code",
   "execution_count": 21,
   "metadata": {},
   "outputs": [
    {
     "data": {
      "text/plain": [
       "Index(['Unnamed: 0'], dtype='object')"
      ]
     },
     "execution_count": 21,
     "metadata": {},
     "output_type": "execute_result"
    }
   ],
   "source": [
    "stores_1.columns[~stores_1.columns.str.match(char_regex)]"
   ]
  },
  {
   "cell_type": "code",
   "execution_count": 22,
   "metadata": {},
   "outputs": [
    {
     "data": {
      "text/plain": [
       "Index(['Unnamed: 0'], dtype='object')"
      ]
     },
     "execution_count": 22,
     "metadata": {},
     "output_type": "execute_result"
    }
   ],
   "source": [
    "features_1.columns[~features_1.columns.str.match(char_regex)]"
   ]
  },
  {
   "cell_type": "code",
   "execution_count": 23,
   "metadata": {},
   "outputs": [
    {
     "data": {
      "text/plain": [
       "Index(['Unnamed: 0'], dtype='object')"
      ]
     },
     "execution_count": 23,
     "metadata": {},
     "output_type": "execute_result"
    }
   ],
   "source": [
    "users_1.columns[~users_1.columns.str.match(char_regex)]"
   ]
  },
  {
   "cell_type": "markdown",
   "metadata": {},
   "source": [
    "El único campo que contiene caracteres especiales es el campo 'Unnamed: 0' que se observa en todos los datasets. Esta columna no aporta nada y puede removerse."
   ]
  },
  {
   "cell_type": "code",
   "execution_count": 24,
   "metadata": {},
   "outputs": [],
   "source": [
    "sales_1.drop('Unnamed: 0', axis=1, inplace=True)\n",
    "stores_1.drop('Unnamed: 0', axis=1, inplace=True)\n",
    "features_1.drop('Unnamed: 0', axis=1, inplace=True)\n",
    "users_1.drop('Unnamed: 0', axis=1, inplace=True)"
   ]
  },
  {
   "cell_type": "markdown",
   "metadata": {},
   "source": [
    "No existen campos con cadenas de texto, salvo el nombre de los usuarios, el cual debe ser despersonalizado, con lo cual no lo analizarémos. Pero si hubiera alguna columna cuyo tipo fuera String, podría analizarse la rareza de los Strings utilizando ftfy.badness."
   ]
  },
  {
   "cell_type": "markdown",
   "metadata": {},
   "source": [
    "### Tratamiento de valores faltantes"
   ]
  },
  {
   "cell_type": "code",
   "execution_count": 25,
   "metadata": {},
   "outputs": [
    {
     "data": {
      "text/plain": [
       "Store               0\n",
       "Dept                0\n",
       "Date                0\n",
       "Weekly_Sales        0\n",
       "IsHoliday       42118\n",
       "Sale_Id             0\n",
       "dtype: int64"
      ]
     },
     "execution_count": 25,
     "metadata": {},
     "output_type": "execute_result"
    }
   ],
   "source": [
    "# get the number of missing data points per column\n",
    "sales_1.isnull().sum()\n"
   ]
  },
  {
   "cell_type": "code",
   "execution_count": 26,
   "metadata": {},
   "outputs": [
    {
     "data": {
      "text/plain": [
       "42118"
      ]
     },
     "execution_count": 26,
     "metadata": {},
     "output_type": "execute_result"
    }
   ],
   "source": [
    "len(sales_1)-len(sales_1.dropna()) #otra forma de calcular"
   ]
  },
  {
   "cell_type": "markdown",
   "metadata": {},
   "source": [
    "Hay 42.118 valores faltantes que pertenecen al feature IsHoliday. Esta medida en sí, no dice nada más que con cuantos valores debemos lidiar.\n",
    "\n",
    "Primero tenemos que ver si en términos relativos su impacto."
   ]
  },
  {
   "cell_type": "code",
   "execution_count": 27,
   "metadata": {},
   "outputs": [
    {
     "data": {
      "text/plain": [
       "0.9010840872154741"
      ]
     },
     "execution_count": 27,
     "metadata": {},
     "output_type": "execute_result"
    }
   ],
   "source": [
    "len(sales_1.dropna())/len(sales_1)"
   ]
  },
  {
   "cell_type": "code",
   "execution_count": 28,
   "metadata": {},
   "outputs": [
    {
     "data": {
      "text/plain": [
       "0.9010840872154741"
      ]
     },
     "execution_count": 28,
     "metadata": {},
     "output_type": "execute_result"
    }
   ],
   "source": [
    "len(sales_1.dropna(subset=['IsHoliday']))/len(sales_1)"
   ]
  },
  {
   "cell_type": "markdown",
   "metadata": {},
   "source": [
    "Eliminar las filas que tienen NAN en la columna IsHoliday implicaria quedarse con el 90% de los datos del dataset original. Ahora verificamos si las fechas con faltantes en IsHoliday son aleatorias o si pertenecen a periodos continuos de tiempo:"
   ]
  },
  {
   "cell_type": "code",
   "execution_count": 29,
   "metadata": {},
   "outputs": [
    {
     "data": {
      "text/html": [
       "<div>\n",
       "<style scoped>\n",
       "    .dataframe tbody tr th:only-of-type {\n",
       "        vertical-align: middle;\n",
       "    }\n",
       "\n",
       "    .dataframe tbody tr th {\n",
       "        vertical-align: top;\n",
       "    }\n",
       "\n",
       "    .dataframe thead th {\n",
       "        text-align: right;\n",
       "    }\n",
       "</style>\n",
       "<table border=\"1\" class=\"dataframe\">\n",
       "  <thead>\n",
       "    <tr style=\"text-align: right;\">\n",
       "      <th></th>\n",
       "      <th>Store</th>\n",
       "      <th>Dept</th>\n",
       "      <th>Date</th>\n",
       "      <th>Weekly_Sales</th>\n",
       "      <th>IsHoliday</th>\n",
       "      <th>Sale_Id</th>\n",
       "    </tr>\n",
       "  </thead>\n",
       "  <tbody>\n",
       "    <tr>\n",
       "      <th>162595</th>\n",
       "      <td>17</td>\n",
       "      <td>40</td>\n",
       "      <td>2010-01-10</td>\n",
       "      <td>48169.96</td>\n",
       "      <td>NaN</td>\n",
       "      <td>162595</td>\n",
       "    </tr>\n",
       "    <tr>\n",
       "      <th>288112</th>\n",
       "      <td>30</td>\n",
       "      <td>12</td>\n",
       "      <td>2010-02-04</td>\n",
       "      <td>103.32</td>\n",
       "      <td>NaN</td>\n",
       "      <td>288112</td>\n",
       "    </tr>\n",
       "    <tr>\n",
       "      <th>176071</th>\n",
       "      <td>18</td>\n",
       "      <td>90</td>\n",
       "      <td>2010-02-07</td>\n",
       "      <td>13766.11</td>\n",
       "      <td>NaN</td>\n",
       "      <td>176071</td>\n",
       "    </tr>\n",
       "    <tr>\n",
       "      <th>274909</th>\n",
       "      <td>28</td>\n",
       "      <td>80</td>\n",
       "      <td>2010-02-19</td>\n",
       "      <td>18431.14</td>\n",
       "      <td>NaN</td>\n",
       "      <td>274909</td>\n",
       "    </tr>\n",
       "    <tr>\n",
       "      <th>338781</th>\n",
       "      <td>35</td>\n",
       "      <td>83</td>\n",
       "      <td>2010-02-26</td>\n",
       "      <td>5253.18</td>\n",
       "      <td>NaN</td>\n",
       "      <td>338781</td>\n",
       "    </tr>\n",
       "    <tr>\n",
       "      <th>111477</th>\n",
       "      <td>12</td>\n",
       "      <td>27</td>\n",
       "      <td>2010-03-09</td>\n",
       "      <td>2164.30</td>\n",
       "      <td>NaN</td>\n",
       "      <td>111477</td>\n",
       "    </tr>\n",
       "    <tr>\n",
       "      <th>290612</th>\n",
       "      <td>30</td>\n",
       "      <td>56</td>\n",
       "      <td>2010-03-12</td>\n",
       "      <td>336.00</td>\n",
       "      <td>NaN</td>\n",
       "      <td>290612</td>\n",
       "    </tr>\n",
       "    <tr>\n",
       "      <th>304996</th>\n",
       "      <td>32</td>\n",
       "      <td>9</td>\n",
       "      <td>2010-03-19</td>\n",
       "      <td>11239.75</td>\n",
       "      <td>NaN</td>\n",
       "      <td>304996</td>\n",
       "    </tr>\n",
       "    <tr>\n",
       "      <th>287270</th>\n",
       "      <td>30</td>\n",
       "      <td>6</td>\n",
       "      <td>2010-03-26</td>\n",
       "      <td>20.86</td>\n",
       "      <td>NaN</td>\n",
       "      <td>287270</td>\n",
       "    </tr>\n",
       "    <tr>\n",
       "      <th>207148</th>\n",
       "      <td>22</td>\n",
       "      <td>1</td>\n",
       "      <td>2010-04-06</td>\n",
       "      <td>12956.89</td>\n",
       "      <td>NaN</td>\n",
       "      <td>207148</td>\n",
       "    </tr>\n",
       "    <tr>\n",
       "      <th>67800</th>\n",
       "      <td>7</td>\n",
       "      <td>92</td>\n",
       "      <td>2010-04-16</td>\n",
       "      <td>14781.33</td>\n",
       "      <td>NaN</td>\n",
       "      <td>67800</td>\n",
       "    </tr>\n",
       "    <tr>\n",
       "      <th>33657</th>\n",
       "      <td>4</td>\n",
       "      <td>31</td>\n",
       "      <td>2010-04-23</td>\n",
       "      <td>1628.00</td>\n",
       "      <td>NaN</td>\n",
       "      <td>33657</td>\n",
       "    </tr>\n",
       "    <tr>\n",
       "      <th>131360</th>\n",
       "      <td>14</td>\n",
       "      <td>25</td>\n",
       "      <td>2010-04-30</td>\n",
       "      <td>15710.50</td>\n",
       "      <td>NaN</td>\n",
       "      <td>131360</td>\n",
       "    </tr>\n",
       "    <tr>\n",
       "      <th>303644</th>\n",
       "      <td>31</td>\n",
       "      <td>98</td>\n",
       "      <td>2010-05-02</td>\n",
       "      <td>10141.32</td>\n",
       "      <td>NaN</td>\n",
       "      <td>303644</td>\n",
       "    </tr>\n",
       "    <tr>\n",
       "      <th>83347</th>\n",
       "      <td>9</td>\n",
       "      <td>35</td>\n",
       "      <td>2010-05-03</td>\n",
       "      <td>1673.00</td>\n",
       "      <td>NaN</td>\n",
       "      <td>83347</td>\n",
       "    </tr>\n",
       "    <tr>\n",
       "      <th>111486</th>\n",
       "      <td>12</td>\n",
       "      <td>27</td>\n",
       "      <td>2010-05-11</td>\n",
       "      <td>1958.95</td>\n",
       "      <td>NaN</td>\n",
       "      <td>111486</td>\n",
       "    </tr>\n",
       "    <tr>\n",
       "      <th>158050</th>\n",
       "      <td>17</td>\n",
       "      <td>5</td>\n",
       "      <td>2010-05-14</td>\n",
       "      <td>22696.12</td>\n",
       "      <td>NaN</td>\n",
       "      <td>158050</td>\n",
       "    </tr>\n",
       "    <tr>\n",
       "      <th>171616</th>\n",
       "      <td>18</td>\n",
       "      <td>32</td>\n",
       "      <td>2010-05-21</td>\n",
       "      <td>10900.45</td>\n",
       "      <td>NaN</td>\n",
       "      <td>171616</td>\n",
       "    </tr>\n",
       "    <tr>\n",
       "      <th>377131</th>\n",
       "      <td>40</td>\n",
       "      <td>52</td>\n",
       "      <td>2010-05-28</td>\n",
       "      <td>979.13</td>\n",
       "      <td>NaN</td>\n",
       "      <td>377131</td>\n",
       "    </tr>\n",
       "    <tr>\n",
       "      <th>321848</th>\n",
       "      <td>34</td>\n",
       "      <td>10</td>\n",
       "      <td>2010-06-08</td>\n",
       "      <td>18040.17</td>\n",
       "      <td>NaN</td>\n",
       "      <td>321848</td>\n",
       "    </tr>\n",
       "    <tr>\n",
       "      <th>34237</th>\n",
       "      <td>4</td>\n",
       "      <td>35</td>\n",
       "      <td>2010-06-18</td>\n",
       "      <td>5075.00</td>\n",
       "      <td>NaN</td>\n",
       "      <td>34237</td>\n",
       "    </tr>\n",
       "    <tr>\n",
       "      <th>255023</th>\n",
       "      <td>26</td>\n",
       "      <td>83</td>\n",
       "      <td>2010-06-25</td>\n",
       "      <td>4412.29</td>\n",
       "      <td>NaN</td>\n",
       "      <td>255023</td>\n",
       "    </tr>\n",
       "    <tr>\n",
       "      <th>22497</th>\n",
       "      <td>3</td>\n",
       "      <td>16</td>\n",
       "      <td>2010-07-05</td>\n",
       "      <td>12688.20</td>\n",
       "      <td>NaN</td>\n",
       "      <td>22497</td>\n",
       "    </tr>\n",
       "    <tr>\n",
       "      <th>138429</th>\n",
       "      <td>15</td>\n",
       "      <td>3</td>\n",
       "      <td>2010-07-16</td>\n",
       "      <td>10890.75</td>\n",
       "      <td>NaN</td>\n",
       "      <td>138429</td>\n",
       "    </tr>\n",
       "    <tr>\n",
       "      <th>306276</th>\n",
       "      <td>32</td>\n",
       "      <td>19</td>\n",
       "      <td>2010-07-23</td>\n",
       "      <td>1444.65</td>\n",
       "      <td>NaN</td>\n",
       "      <td>306276</td>\n",
       "    </tr>\n",
       "    <tr>\n",
       "      <th>25770</th>\n",
       "      <td>3</td>\n",
       "      <td>41</td>\n",
       "      <td>2010-07-30</td>\n",
       "      <td>971.00</td>\n",
       "      <td>NaN</td>\n",
       "      <td>25770</td>\n",
       "    </tr>\n",
       "    <tr>\n",
       "      <th>288425</th>\n",
       "      <td>30</td>\n",
       "      <td>14</td>\n",
       "      <td>2010-08-10</td>\n",
       "      <td>1065.99</td>\n",
       "      <td>NaN</td>\n",
       "      <td>288425</td>\n",
       "    </tr>\n",
       "    <tr>\n",
       "      <th>126491</th>\n",
       "      <td>13</td>\n",
       "      <td>85</td>\n",
       "      <td>2010-08-13</td>\n",
       "      <td>5624.13</td>\n",
       "      <td>NaN</td>\n",
       "      <td>126491</td>\n",
       "    </tr>\n",
       "    <tr>\n",
       "      <th>313035</th>\n",
       "      <td>32</td>\n",
       "      <td>92</td>\n",
       "      <td>2010-08-20</td>\n",
       "      <td>92808.43</td>\n",
       "      <td>NaN</td>\n",
       "      <td>313035</td>\n",
       "    </tr>\n",
       "    <tr>\n",
       "      <th>310736</th>\n",
       "      <td>32</td>\n",
       "      <td>58</td>\n",
       "      <td>2010-08-27</td>\n",
       "      <td>3603.00</td>\n",
       "      <td>NaN</td>\n",
       "      <td>310736</td>\n",
       "    </tr>\n",
       "    <tr>\n",
       "      <th>...</th>\n",
       "      <td>...</td>\n",
       "      <td>...</td>\n",
       "      <td>...</td>\n",
       "      <td>...</td>\n",
       "      <td>...</td>\n",
       "      <td>...</td>\n",
       "    </tr>\n",
       "    <tr>\n",
       "      <th>310678</th>\n",
       "      <td>32</td>\n",
       "      <td>56</td>\n",
       "      <td>2012-04-13</td>\n",
       "      <td>7207.37</td>\n",
       "      <td>NaN</td>\n",
       "      <td>310678</td>\n",
       "    </tr>\n",
       "    <tr>\n",
       "      <th>355398</th>\n",
       "      <td>38</td>\n",
       "      <td>12</td>\n",
       "      <td>2012-04-20</td>\n",
       "      <td>88.10</td>\n",
       "      <td>NaN</td>\n",
       "      <td>355398</td>\n",
       "    </tr>\n",
       "    <tr>\n",
       "      <th>345909</th>\n",
       "      <td>36</td>\n",
       "      <td>94</td>\n",
       "      <td>2012-04-27</td>\n",
       "      <td>34293.48</td>\n",
       "      <td>NaN</td>\n",
       "      <td>345909</td>\n",
       "    </tr>\n",
       "    <tr>\n",
       "      <th>212482</th>\n",
       "      <td>22</td>\n",
       "      <td>41</td>\n",
       "      <td>2012-05-10</td>\n",
       "      <td>878.00</td>\n",
       "      <td>NaN</td>\n",
       "      <td>212482</td>\n",
       "    </tr>\n",
       "    <tr>\n",
       "      <th>282130</th>\n",
       "      <td>29</td>\n",
       "      <td>38</td>\n",
       "      <td>2012-05-18</td>\n",
       "      <td>45789.12</td>\n",
       "      <td>NaN</td>\n",
       "      <td>282130</td>\n",
       "    </tr>\n",
       "    <tr>\n",
       "      <th>337331</th>\n",
       "      <td>35</td>\n",
       "      <td>58</td>\n",
       "      <td>2012-05-25</td>\n",
       "      <td>740.00</td>\n",
       "      <td>NaN</td>\n",
       "      <td>337331</td>\n",
       "    </tr>\n",
       "    <tr>\n",
       "      <th>45338</th>\n",
       "      <td>5</td>\n",
       "      <td>44</td>\n",
       "      <td>2012-06-01</td>\n",
       "      <td>1064.82</td>\n",
       "      <td>NaN</td>\n",
       "      <td>45338</td>\n",
       "    </tr>\n",
       "    <tr>\n",
       "      <th>35047</th>\n",
       "      <td>4</td>\n",
       "      <td>41</td>\n",
       "      <td>2012-06-04</td>\n",
       "      <td>868.00</td>\n",
       "      <td>NaN</td>\n",
       "      <td>35047</td>\n",
       "    </tr>\n",
       "    <tr>\n",
       "      <th>294116</th>\n",
       "      <td>31</td>\n",
       "      <td>3</td>\n",
       "      <td>2012-06-07</td>\n",
       "      <td>7275.10</td>\n",
       "      <td>NaN</td>\n",
       "      <td>294116</td>\n",
       "    </tr>\n",
       "    <tr>\n",
       "      <th>402696</th>\n",
       "      <td>43</td>\n",
       "      <td>79</td>\n",
       "      <td>2012-06-15</td>\n",
       "      <td>13116.14</td>\n",
       "      <td>NaN</td>\n",
       "      <td>402696</td>\n",
       "    </tr>\n",
       "    <tr>\n",
       "      <th>337614</th>\n",
       "      <td>35</td>\n",
       "      <td>60</td>\n",
       "      <td>2012-06-22</td>\n",
       "      <td>99.00</td>\n",
       "      <td>NaN</td>\n",
       "      <td>337614</td>\n",
       "    </tr>\n",
       "    <tr>\n",
       "      <th>218374</th>\n",
       "      <td>23</td>\n",
       "      <td>11</td>\n",
       "      <td>2012-06-29</td>\n",
       "      <td>31719.37</td>\n",
       "      <td>NaN</td>\n",
       "      <td>218374</td>\n",
       "    </tr>\n",
       "    <tr>\n",
       "      <th>405607</th>\n",
       "      <td>44</td>\n",
       "      <td>6</td>\n",
       "      <td>2012-07-09</td>\n",
       "      <td>17.82</td>\n",
       "      <td>NaN</td>\n",
       "      <td>405607</td>\n",
       "    </tr>\n",
       "    <tr>\n",
       "      <th>10371</th>\n",
       "      <td>2</td>\n",
       "      <td>1</td>\n",
       "      <td>2012-07-13</td>\n",
       "      <td>23148.57</td>\n",
       "      <td>NaN</td>\n",
       "      <td>10371</td>\n",
       "    </tr>\n",
       "    <tr>\n",
       "      <th>124724</th>\n",
       "      <td>13</td>\n",
       "      <td>56</td>\n",
       "      <td>2012-07-20</td>\n",
       "      <td>4863.03</td>\n",
       "      <td>NaN</td>\n",
       "      <td>124724</td>\n",
       "    </tr>\n",
       "    <tr>\n",
       "      <th>385009</th>\n",
       "      <td>41</td>\n",
       "      <td>30</td>\n",
       "      <td>2012-07-27</td>\n",
       "      <td>3273.49</td>\n",
       "      <td>NaN</td>\n",
       "      <td>385009</td>\n",
       "    </tr>\n",
       "    <tr>\n",
       "      <th>369034</th>\n",
       "      <td>39</td>\n",
       "      <td>81</td>\n",
       "      <td>2012-08-06</td>\n",
       "      <td>21175.10</td>\n",
       "      <td>NaN</td>\n",
       "      <td>369034</td>\n",
       "    </tr>\n",
       "    <tr>\n",
       "      <th>7493</th>\n",
       "      <td>1</td>\n",
       "      <td>67</td>\n",
       "      <td>2012-08-17</td>\n",
       "      <td>5640.72</td>\n",
       "      <td>NaN</td>\n",
       "      <td>7493</td>\n",
       "    </tr>\n",
       "    <tr>\n",
       "      <th>168748</th>\n",
       "      <td>18</td>\n",
       "      <td>10</td>\n",
       "      <td>2012-08-24</td>\n",
       "      <td>15006.65</td>\n",
       "      <td>NaN</td>\n",
       "      <td>168748</td>\n",
       "    </tr>\n",
       "    <tr>\n",
       "      <th>385300</th>\n",
       "      <td>41</td>\n",
       "      <td>32</td>\n",
       "      <td>2012-08-31</td>\n",
       "      <td>6153.99</td>\n",
       "      <td>NaN</td>\n",
       "      <td>385300</td>\n",
       "    </tr>\n",
       "    <tr>\n",
       "      <th>255827</th>\n",
       "      <td>26</td>\n",
       "      <td>92</td>\n",
       "      <td>2012-09-03</td>\n",
       "      <td>106049.59</td>\n",
       "      <td>NaN</td>\n",
       "      <td>255827</td>\n",
       "    </tr>\n",
       "    <tr>\n",
       "      <th>120576</th>\n",
       "      <td>13</td>\n",
       "      <td>22</td>\n",
       "      <td>2012-09-14</td>\n",
       "      <td>16170.95</td>\n",
       "      <td>NaN</td>\n",
       "      <td>120576</td>\n",
       "    </tr>\n",
       "    <tr>\n",
       "      <th>360212</th>\n",
       "      <td>38</td>\n",
       "      <td>92</td>\n",
       "      <td>2012-09-21</td>\n",
       "      <td>46074.34</td>\n",
       "      <td>NaN</td>\n",
       "      <td>360212</td>\n",
       "    </tr>\n",
       "    <tr>\n",
       "      <th>189829</th>\n",
       "      <td>20</td>\n",
       "      <td>19</td>\n",
       "      <td>2012-09-28</td>\n",
       "      <td>-19.90</td>\n",
       "      <td>NaN</td>\n",
       "      <td>189829</td>\n",
       "    </tr>\n",
       "    <tr>\n",
       "      <th>425434</th>\n",
       "      <td>41</td>\n",
       "      <td>40</td>\n",
       "      <td>2012-10-02</td>\n",
       "      <td>58574.33</td>\n",
       "      <td>NaN</td>\n",
       "      <td>386131</td>\n",
       "    </tr>\n",
       "    <tr>\n",
       "      <th>261170</th>\n",
       "      <td>27</td>\n",
       "      <td>32</td>\n",
       "      <td>2012-10-08</td>\n",
       "      <td>8127.42</td>\n",
       "      <td>NaN</td>\n",
       "      <td>261170</td>\n",
       "    </tr>\n",
       "    <tr>\n",
       "      <th>51760</th>\n",
       "      <td>6</td>\n",
       "      <td>22</td>\n",
       "      <td>2012-10-19</td>\n",
       "      <td>16188.59</td>\n",
       "      <td>NaN</td>\n",
       "      <td>51760</td>\n",
       "    </tr>\n",
       "    <tr>\n",
       "      <th>330578</th>\n",
       "      <td>34</td>\n",
       "      <td>97</td>\n",
       "      <td>2012-10-26</td>\n",
       "      <td>18521.65</td>\n",
       "      <td>NaN</td>\n",
       "      <td>330578</td>\n",
       "    </tr>\n",
       "    <tr>\n",
       "      <th>169719</th>\n",
       "      <td>18</td>\n",
       "      <td>18</td>\n",
       "      <td>2012-11-05</td>\n",
       "      <td>-1.53</td>\n",
       "      <td>NaN</td>\n",
       "      <td>169719</td>\n",
       "    </tr>\n",
       "    <tr>\n",
       "      <th>200367</th>\n",
       "      <td>21</td>\n",
       "      <td>21</td>\n",
       "      <td>2012-12-10</td>\n",
       "      <td>2833.09</td>\n",
       "      <td>NaN</td>\n",
       "      <td>200367</td>\n",
       "    </tr>\n",
       "  </tbody>\n",
       "</table>\n",
       "<p>143 rows × 6 columns</p>\n",
       "</div>"
      ],
      "text/plain": [
       "        Store  Dept       Date  Weekly_Sales IsHoliday  Sale_Id\n",
       "162595     17    40 2010-01-10      48169.96       NaN   162595\n",
       "288112     30    12 2010-02-04        103.32       NaN   288112\n",
       "176071     18    90 2010-02-07      13766.11       NaN   176071\n",
       "274909     28    80 2010-02-19      18431.14       NaN   274909\n",
       "338781     35    83 2010-02-26       5253.18       NaN   338781\n",
       "111477     12    27 2010-03-09       2164.30       NaN   111477\n",
       "290612     30    56 2010-03-12        336.00       NaN   290612\n",
       "304996     32     9 2010-03-19      11239.75       NaN   304996\n",
       "287270     30     6 2010-03-26         20.86       NaN   287270\n",
       "207148     22     1 2010-04-06      12956.89       NaN   207148\n",
       "67800       7    92 2010-04-16      14781.33       NaN    67800\n",
       "33657       4    31 2010-04-23       1628.00       NaN    33657\n",
       "131360     14    25 2010-04-30      15710.50       NaN   131360\n",
       "303644     31    98 2010-05-02      10141.32       NaN   303644\n",
       "83347       9    35 2010-05-03       1673.00       NaN    83347\n",
       "111486     12    27 2010-05-11       1958.95       NaN   111486\n",
       "158050     17     5 2010-05-14      22696.12       NaN   158050\n",
       "171616     18    32 2010-05-21      10900.45       NaN   171616\n",
       "377131     40    52 2010-05-28        979.13       NaN   377131\n",
       "321848     34    10 2010-06-08      18040.17       NaN   321848\n",
       "34237       4    35 2010-06-18       5075.00       NaN    34237\n",
       "255023     26    83 2010-06-25       4412.29       NaN   255023\n",
       "22497       3    16 2010-07-05      12688.20       NaN    22497\n",
       "138429     15     3 2010-07-16      10890.75       NaN   138429\n",
       "306276     32    19 2010-07-23       1444.65       NaN   306276\n",
       "25770       3    41 2010-07-30        971.00       NaN    25770\n",
       "288425     30    14 2010-08-10       1065.99       NaN   288425\n",
       "126491     13    85 2010-08-13       5624.13       NaN   126491\n",
       "313035     32    92 2010-08-20      92808.43       NaN   313035\n",
       "310736     32    58 2010-08-27       3603.00       NaN   310736\n",
       "...       ...   ...        ...           ...       ...      ...\n",
       "310678     32    56 2012-04-13       7207.37       NaN   310678\n",
       "355398     38    12 2012-04-20         88.10       NaN   355398\n",
       "345909     36    94 2012-04-27      34293.48       NaN   345909\n",
       "212482     22    41 2012-05-10        878.00       NaN   212482\n",
       "282130     29    38 2012-05-18      45789.12       NaN   282130\n",
       "337331     35    58 2012-05-25        740.00       NaN   337331\n",
       "45338       5    44 2012-06-01       1064.82       NaN    45338\n",
       "35047       4    41 2012-06-04        868.00       NaN    35047\n",
       "294116     31     3 2012-06-07       7275.10       NaN   294116\n",
       "402696     43    79 2012-06-15      13116.14       NaN   402696\n",
       "337614     35    60 2012-06-22         99.00       NaN   337614\n",
       "218374     23    11 2012-06-29      31719.37       NaN   218374\n",
       "405607     44     6 2012-07-09         17.82       NaN   405607\n",
       "10371       2     1 2012-07-13      23148.57       NaN    10371\n",
       "124724     13    56 2012-07-20       4863.03       NaN   124724\n",
       "385009     41    30 2012-07-27       3273.49       NaN   385009\n",
       "369034     39    81 2012-08-06      21175.10       NaN   369034\n",
       "7493        1    67 2012-08-17       5640.72       NaN     7493\n",
       "168748     18    10 2012-08-24      15006.65       NaN   168748\n",
       "385300     41    32 2012-08-31       6153.99       NaN   385300\n",
       "255827     26    92 2012-09-03     106049.59       NaN   255827\n",
       "120576     13    22 2012-09-14      16170.95       NaN   120576\n",
       "360212     38    92 2012-09-21      46074.34       NaN   360212\n",
       "189829     20    19 2012-09-28        -19.90       NaN   189829\n",
       "425434     41    40 2012-10-02      58574.33       NaN   386131\n",
       "261170     27    32 2012-10-08       8127.42       NaN   261170\n",
       "51760       6    22 2012-10-19      16188.59       NaN    51760\n",
       "330578     34    97 2012-10-26      18521.65       NaN   330578\n",
       "169719     18    18 2012-11-05         -1.53       NaN   169719\n",
       "200367     21    21 2012-12-10       2833.09       NaN   200367\n",
       "\n",
       "[143 rows x 6 columns]"
      ]
     },
     "execution_count": 29,
     "metadata": {},
     "output_type": "execute_result"
    }
   ],
   "source": [
    "#sales[sales.IsHoliday.isnull()]\n",
    "sales_1[sales_1.IsHoliday.isnull()].sort_values(by='Date', ascending=True).drop_duplicates('Date')"
   ]
  },
  {
   "cell_type": "markdown",
   "metadata": {},
   "source": [
    "Tal como se ve, las fechas con faltantes parecen ser aleatorias."
   ]
  },
  {
   "cell_type": "code",
   "execution_count": 30,
   "metadata": {},
   "outputs": [
    {
     "data": {
      "text/plain": [
       "Store              0\n",
       "Date               0\n",
       "Temperature        0\n",
       "Fuel_Price         0\n",
       "MarkDown1       4158\n",
       "MarkDown2       5269\n",
       "MarkDown3       4577\n",
       "MarkDown4       4726\n",
       "MarkDown5       4140\n",
       "CPI              585\n",
       "Unemployment     585\n",
       "IsHoliday          0\n",
       "IsMarkdown         0\n",
       "Col3               0\n",
       "dtype: int64"
      ]
     },
     "execution_count": 30,
     "metadata": {},
     "output_type": "execute_result"
    }
   ],
   "source": [
    "features_1.isnull().sum()"
   ]
  },
  {
   "cell_type": "markdown",
   "metadata": {},
   "source": [
    "Vamos a analizar en que casos todas las columnas de markdown son NaN, ya que en el análisis nuestro nos interesa solo saber si en una fecha hubo o no descuentos."
   ]
  },
  {
   "cell_type": "code",
   "execution_count": 31,
   "metadata": {},
   "outputs": [],
   "source": [
    "cols_to_check = ['MarkDown1', 'MarkDown2', 'MarkDown3', 'MarkDown4', 'MarkDown5']\n",
    "features_1['is_na'] = features_1[cols_to_check].isnull().apply(lambda x: all(x), axis=1) "
   ]
  },
  {
   "cell_type": "code",
   "execution_count": 32,
   "metadata": {
    "scrolled": true
   },
   "outputs": [
    {
     "data": {
      "text/plain": [
       "0.2526251526251526"
      ]
     },
     "execution_count": 32,
     "metadata": {},
     "output_type": "execute_result"
    }
   ],
   "source": [
    "len(features_1.dropna())/len(features_1)"
   ]
  },
  {
   "cell_type": "markdown",
   "metadata": {},
   "source": [
    "En el caso de la tabla features si eliminamos todas las filas con valores faltantes nos quedamos solo con el 25% de las filas. Por esto no seria recomendable descartar estas filas porque perderiamos mucha informacion de las columnas que no tienen valores faltantes, como temperatura y precio. Se podria ver la correlacion entre las ventas semanales y la existencia de descuento o no o alternativamente la correlación entre ventas semanales y cada una de las columnas de descuentos para los casos en que ninguna de ellas posee faltantes. Si no hubiera correlacion podriamos descartar estas columnas.\n",
    "\n",
    "Cabe observar que en esta tabla tambien esta la variable IsHoliday y no tiene faltantes por lo que no seria necesario eliminar las filas con faltantes de la tabla sales."
   ]
  },
  {
   "cell_type": "code",
   "execution_count": 33,
   "metadata": {
    "scrolled": false
   },
   "outputs": [
    {
     "data": {
      "text/plain": [
       "0.5054945054945055"
      ]
     },
     "execution_count": 33,
     "metadata": {},
     "output_type": "execute_result"
    }
   ],
   "source": [
    "len(features_1[features_1.is_na==True]) / len(features_1)"
   ]
  },
  {
   "cell_type": "markdown",
   "metadata": {},
   "source": [
    "Podemos ver que en la mitad de los registros del dataset, se encuetran todas las columnas MarkDown en nulo."
   ]
  },
  {
   "cell_type": "code",
   "execution_count": 34,
   "metadata": {},
   "outputs": [
    {
     "data": {
      "text/plain": [
       "Store    0\n",
       "Type     0\n",
       "Size     6\n",
       "dtype: int64"
      ]
     },
     "execution_count": 34,
     "metadata": {},
     "output_type": "execute_result"
    }
   ],
   "source": [
    "stores_1.isnull().sum()"
   ]
  },
  {
   "cell_type": "code",
   "execution_count": 35,
   "metadata": {
    "scrolled": true
   },
   "outputs": [
    {
     "data": {
      "text/plain": [
       "0.8666666666666667"
      ]
     },
     "execution_count": 35,
     "metadata": {},
     "output_type": "execute_result"
    }
   ],
   "source": [
    "len(stores_1.dropna())/len(stores_1)"
   ]
  },
  {
   "cell_type": "markdown",
   "metadata": {},
   "source": [
    "La tabla stores contiene 6 faltantes en la columna Size que representan 13,33% del data set. "
   ]
  },
  {
   "cell_type": "code",
   "execution_count": 36,
   "metadata": {},
   "outputs": [
    {
     "data": {
      "text/plain": [
       "array([ 1,  2,  3,  4,  5,  6,  7,  8,  9, 10, 11, 12, 13, 14, 15, 16, 17,\n",
       "       18, 19, 20, 21, 22, 23, 24, 25, 26, 27, 28, 29, 30, 31, 32, 33, 34,\n",
       "       35, 36, 37, 38, 39, 40, 41, 42, 43, 44, 45])"
      ]
     },
     "execution_count": 36,
     "metadata": {},
     "output_type": "execute_result"
    }
   ],
   "source": [
    "stores_1['Store'].unique()"
   ]
  },
  {
   "cell_type": "code",
   "execution_count": 37,
   "metadata": {},
   "outputs": [
    {
     "data": {
      "text/plain": [
       "array(['A', 'B', 'C'], dtype=object)"
      ]
     },
     "execution_count": 37,
     "metadata": {},
     "output_type": "execute_result"
    }
   ],
   "source": [
    "stores_1['Type'].unique() #tipos de tiendas"
   ]
  },
  {
   "cell_type": "markdown",
   "metadata": {},
   "source": [
    "Analizando el dataset de Stores, podemos ver que existen 3 tipos distintos de tiendas (A, B y C). El único valor faltante en este dataset es el Size de 6 tiendas, el cual lo podemos rellenar con el promedio de Size para cada tipo de tienda."
   ]
  },
  {
   "cell_type": "code",
   "execution_count": 38,
   "metadata": {},
   "outputs": [],
   "source": [
    "store_a_avg = stores_1[stores_1.Type=='A'].Size.mean()\n",
    "store_b_avg = stores_1[stores_1.Type=='B'].Size.mean()\n",
    "store_c_avg = stores_1[stores_1.Type=='C'].Size.mean()"
   ]
  },
  {
   "cell_type": "code",
   "execution_count": 39,
   "metadata": {},
   "outputs": [],
   "source": [
    "def replace_store_nan_size(store):\n",
    "    if store.Size > 0:\n",
    "        return store.Size\n",
    "\n",
    "    if store.Type == 'A':\n",
    "        return store_a_avg\n",
    "    elif store.Type == 'B':\n",
    "        return store_b_avg\n",
    "    elif store.Type == 'C':\n",
    "        return store_c_avg"
   ]
  },
  {
   "cell_type": "code",
   "execution_count": 40,
   "metadata": {},
   "outputs": [],
   "source": [
    "stores_1['Size'] = stores_1.apply(replace_store_nan_size, axis=1)"
   ]
  },
  {
   "cell_type": "code",
   "execution_count": 41,
   "metadata": {
    "scrolled": true
   },
   "outputs": [
    {
     "data": {
      "text/plain": [
       "Store    0\n",
       "Type     0\n",
       "Size     0\n",
       "dtype: int64"
      ]
     },
     "execution_count": 41,
     "metadata": {},
     "output_type": "execute_result"
    }
   ],
   "source": [
    "stores_1.isnull().sum()"
   ]
  },
  {
   "cell_type": "markdown",
   "metadata": {},
   "source": [
    "Ya completamos la información de las 6 tiendas faltantes con los respectivos promedios para cada tipo de tienda."
   ]
  },
  {
   "cell_type": "code",
   "execution_count": 42,
   "metadata": {},
   "outputs": [
    {
     "data": {
      "text/plain": [
       "users     0\n",
       "stores    0\n",
       "dtype: int64"
      ]
     },
     "execution_count": 42,
     "metadata": {},
     "output_type": "execute_result"
    }
   ],
   "source": [
    "users_1.isnull().sum()"
   ]
  },
  {
   "cell_type": "markdown",
   "metadata": {},
   "source": [
    "### Codificar variables: las variables categóricas deberán ser tratadas como variables numéricas."
   ]
  },
  {
   "cell_type": "markdown",
   "metadata": {},
   "source": [
    "Las unicas variables categoricas del dataset son IsHoliday y Type"
   ]
  },
  {
   "cell_type": "code",
   "execution_count": 43,
   "metadata": {},
   "outputs": [],
   "source": [
    "from sklearn import preprocessing"
   ]
  },
  {
   "cell_type": "code",
   "execution_count": 44,
   "metadata": {},
   "outputs": [],
   "source": [
    "def transform_categorical(dataset, column):\n",
    "    # Create a label (category) encoder object\n",
    "    le = preprocessing.LabelEncoder()\n",
    "    # Fit the encoder to the pandas column\n",
    "    le.fit(dataset[column])\n",
    "\n",
    "    dataset[column] = le.transform(dataset[column]) "
   ]
  },
  {
   "cell_type": "markdown",
   "metadata": {},
   "source": [
    "Vamos a hacer una transformación de las variables categóricas Type de stores y IsHoliday de features y IsHoliday de sales."
   ]
  },
  {
   "cell_type": "code",
   "execution_count": 45,
   "metadata": {},
   "outputs": [],
   "source": [
    "transform_categorical(stores_1, 'Type')\n",
    "transform_categorical(features_1, 'IsHoliday')\n",
    "transform_categorical(sales_1, 'IsHoliday')"
   ]
  },
  {
   "cell_type": "code",
   "execution_count": 46,
   "metadata": {},
   "outputs": [
    {
     "data": {
      "text/html": [
       "<div>\n",
       "<style scoped>\n",
       "    .dataframe tbody tr th:only-of-type {\n",
       "        vertical-align: middle;\n",
       "    }\n",
       "\n",
       "    .dataframe tbody tr th {\n",
       "        vertical-align: top;\n",
       "    }\n",
       "\n",
       "    .dataframe thead th {\n",
       "        text-align: right;\n",
       "    }\n",
       "</style>\n",
       "<table border=\"1\" class=\"dataframe\">\n",
       "  <thead>\n",
       "    <tr style=\"text-align: right;\">\n",
       "      <th></th>\n",
       "      <th>Store</th>\n",
       "      <th>Type</th>\n",
       "      <th>Size</th>\n",
       "    </tr>\n",
       "  </thead>\n",
       "  <tbody>\n",
       "    <tr>\n",
       "      <th>0</th>\n",
       "      <td>1</td>\n",
       "      <td>0</td>\n",
       "      <td>151315.000000</td>\n",
       "    </tr>\n",
       "    <tr>\n",
       "      <th>1</th>\n",
       "      <td>2</td>\n",
       "      <td>0</td>\n",
       "      <td>202307.000000</td>\n",
       "    </tr>\n",
       "    <tr>\n",
       "      <th>2</th>\n",
       "      <td>3</td>\n",
       "      <td>1</td>\n",
       "      <td>37392.000000</td>\n",
       "    </tr>\n",
       "    <tr>\n",
       "      <th>3</th>\n",
       "      <td>4</td>\n",
       "      <td>0</td>\n",
       "      <td>175194.277778</td>\n",
       "    </tr>\n",
       "    <tr>\n",
       "      <th>4</th>\n",
       "      <td>5</td>\n",
       "      <td>1</td>\n",
       "      <td>34875.000000</td>\n",
       "    </tr>\n",
       "  </tbody>\n",
       "</table>\n",
       "</div>"
      ],
      "text/plain": [
       "   Store  Type           Size\n",
       "0      1     0  151315.000000\n",
       "1      2     0  202307.000000\n",
       "2      3     1   37392.000000\n",
       "3      4     0  175194.277778\n",
       "4      5     1   34875.000000"
      ]
     },
     "execution_count": 46,
     "metadata": {},
     "output_type": "execute_result"
    }
   ],
   "source": [
    "stores_1.head()"
   ]
  },
  {
   "cell_type": "code",
   "execution_count": 47,
   "metadata": {
    "scrolled": true
   },
   "outputs": [
    {
     "data": {
      "text/html": [
       "<div>\n",
       "<style scoped>\n",
       "    .dataframe tbody tr th:only-of-type {\n",
       "        vertical-align: middle;\n",
       "    }\n",
       "\n",
       "    .dataframe tbody tr th {\n",
       "        vertical-align: top;\n",
       "    }\n",
       "\n",
       "    .dataframe thead th {\n",
       "        text-align: right;\n",
       "    }\n",
       "</style>\n",
       "<table border=\"1\" class=\"dataframe\">\n",
       "  <thead>\n",
       "    <tr style=\"text-align: right;\">\n",
       "      <th></th>\n",
       "      <th>Store</th>\n",
       "      <th>Date</th>\n",
       "      <th>Temperature</th>\n",
       "      <th>Fuel_Price</th>\n",
       "      <th>MarkDown1</th>\n",
       "      <th>MarkDown2</th>\n",
       "      <th>MarkDown3</th>\n",
       "      <th>MarkDown4</th>\n",
       "      <th>MarkDown5</th>\n",
       "      <th>CPI</th>\n",
       "      <th>Unemployment</th>\n",
       "      <th>IsHoliday</th>\n",
       "      <th>IsMarkdown</th>\n",
       "      <th>Col3</th>\n",
       "      <th>is_na</th>\n",
       "    </tr>\n",
       "  </thead>\n",
       "  <tbody>\n",
       "    <tr>\n",
       "      <th>0</th>\n",
       "      <td>1</td>\n",
       "      <td>2010-05-02</td>\n",
       "      <td>42.31</td>\n",
       "      <td>2.572</td>\n",
       "      <td>NaN</td>\n",
       "      <td>NaN</td>\n",
       "      <td>NaN</td>\n",
       "      <td>NaN</td>\n",
       "      <td>NaN</td>\n",
       "      <td>211.096358</td>\n",
       "      <td>8.106</td>\n",
       "      <td>0</td>\n",
       "      <td>False</td>\n",
       "      <td>12010-05-02 00:00:00</td>\n",
       "      <td>True</td>\n",
       "    </tr>\n",
       "    <tr>\n",
       "      <th>1</th>\n",
       "      <td>1</td>\n",
       "      <td>2010-12-02</td>\n",
       "      <td>38.51</td>\n",
       "      <td>2.548</td>\n",
       "      <td>NaN</td>\n",
       "      <td>NaN</td>\n",
       "      <td>NaN</td>\n",
       "      <td>NaN</td>\n",
       "      <td>NaN</td>\n",
       "      <td>211.242170</td>\n",
       "      <td>8.106</td>\n",
       "      <td>1</td>\n",
       "      <td>False</td>\n",
       "      <td>12010-12-02 00:00:00</td>\n",
       "      <td>True</td>\n",
       "    </tr>\n",
       "    <tr>\n",
       "      <th>2</th>\n",
       "      <td>1</td>\n",
       "      <td>2010-02-19</td>\n",
       "      <td>39.93</td>\n",
       "      <td>2.514</td>\n",
       "      <td>NaN</td>\n",
       "      <td>NaN</td>\n",
       "      <td>NaN</td>\n",
       "      <td>NaN</td>\n",
       "      <td>NaN</td>\n",
       "      <td>211.289143</td>\n",
       "      <td>8.106</td>\n",
       "      <td>0</td>\n",
       "      <td>False</td>\n",
       "      <td>12010-02-19 00:00:00</td>\n",
       "      <td>True</td>\n",
       "    </tr>\n",
       "    <tr>\n",
       "      <th>3</th>\n",
       "      <td>1</td>\n",
       "      <td>2010-02-26</td>\n",
       "      <td>46.63</td>\n",
       "      <td>2.561</td>\n",
       "      <td>NaN</td>\n",
       "      <td>NaN</td>\n",
       "      <td>NaN</td>\n",
       "      <td>NaN</td>\n",
       "      <td>NaN</td>\n",
       "      <td>211.319643</td>\n",
       "      <td>8.106</td>\n",
       "      <td>0</td>\n",
       "      <td>False</td>\n",
       "      <td>12010-02-26 00:00:00</td>\n",
       "      <td>True</td>\n",
       "    </tr>\n",
       "    <tr>\n",
       "      <th>4</th>\n",
       "      <td>1</td>\n",
       "      <td>2010-05-03</td>\n",
       "      <td>46.50</td>\n",
       "      <td>2.625</td>\n",
       "      <td>NaN</td>\n",
       "      <td>NaN</td>\n",
       "      <td>NaN</td>\n",
       "      <td>NaN</td>\n",
       "      <td>NaN</td>\n",
       "      <td>211.350143</td>\n",
       "      <td>8.106</td>\n",
       "      <td>0</td>\n",
       "      <td>False</td>\n",
       "      <td>12010-05-03 00:00:00</td>\n",
       "      <td>True</td>\n",
       "    </tr>\n",
       "  </tbody>\n",
       "</table>\n",
       "</div>"
      ],
      "text/plain": [
       "   Store       Date  Temperature  Fuel_Price  MarkDown1  MarkDown2  MarkDown3  \\\n",
       "0      1 2010-05-02        42.31       2.572        NaN        NaN        NaN   \n",
       "1      1 2010-12-02        38.51       2.548        NaN        NaN        NaN   \n",
       "2      1 2010-02-19        39.93       2.514        NaN        NaN        NaN   \n",
       "3      1 2010-02-26        46.63       2.561        NaN        NaN        NaN   \n",
       "4      1 2010-05-03        46.50       2.625        NaN        NaN        NaN   \n",
       "\n",
       "   MarkDown4  MarkDown5         CPI  Unemployment  IsHoliday  IsMarkdown  \\\n",
       "0        NaN        NaN  211.096358         8.106          0       False   \n",
       "1        NaN        NaN  211.242170         8.106          1       False   \n",
       "2        NaN        NaN  211.289143         8.106          0       False   \n",
       "3        NaN        NaN  211.319643         8.106          0       False   \n",
       "4        NaN        NaN  211.350143         8.106          0       False   \n",
       "\n",
       "                   Col3  is_na  \n",
       "0  12010-05-02 00:00:00   True  \n",
       "1  12010-12-02 00:00:00   True  \n",
       "2  12010-02-19 00:00:00   True  \n",
       "3  12010-02-26 00:00:00   True  \n",
       "4  12010-05-03 00:00:00   True  "
      ]
     },
     "execution_count": 47,
     "metadata": {},
     "output_type": "execute_result"
    }
   ],
   "source": [
    "features_1.head()"
   ]
  },
  {
   "cell_type": "code",
   "execution_count": 48,
   "metadata": {
    "scrolled": true
   },
   "outputs": [
    {
     "data": {
      "text/html": [
       "<div>\n",
       "<style scoped>\n",
       "    .dataframe tbody tr th:only-of-type {\n",
       "        vertical-align: middle;\n",
       "    }\n",
       "\n",
       "    .dataframe tbody tr th {\n",
       "        vertical-align: top;\n",
       "    }\n",
       "\n",
       "    .dataframe thead th {\n",
       "        text-align: right;\n",
       "    }\n",
       "</style>\n",
       "<table border=\"1\" class=\"dataframe\">\n",
       "  <thead>\n",
       "    <tr style=\"text-align: right;\">\n",
       "      <th></th>\n",
       "      <th>Store</th>\n",
       "      <th>Dept</th>\n",
       "      <th>Date</th>\n",
       "      <th>Weekly_Sales</th>\n",
       "      <th>IsHoliday</th>\n",
       "      <th>Sale_Id</th>\n",
       "    </tr>\n",
       "  </thead>\n",
       "  <tbody>\n",
       "    <tr>\n",
       "      <th>0</th>\n",
       "      <td>1</td>\n",
       "      <td>1</td>\n",
       "      <td>2010-05-02</td>\n",
       "      <td>24924.50</td>\n",
       "      <td>0</td>\n",
       "      <td>0</td>\n",
       "    </tr>\n",
       "    <tr>\n",
       "      <th>1</th>\n",
       "      <td>1</td>\n",
       "      <td>1</td>\n",
       "      <td>2010-12-02</td>\n",
       "      <td>46039.49</td>\n",
       "      <td>1</td>\n",
       "      <td>1</td>\n",
       "    </tr>\n",
       "    <tr>\n",
       "      <th>2</th>\n",
       "      <td>1</td>\n",
       "      <td>1</td>\n",
       "      <td>2010-02-19</td>\n",
       "      <td>41595.55</td>\n",
       "      <td>0</td>\n",
       "      <td>2</td>\n",
       "    </tr>\n",
       "    <tr>\n",
       "      <th>3</th>\n",
       "      <td>1</td>\n",
       "      <td>1</td>\n",
       "      <td>2010-02-26</td>\n",
       "      <td>19403.54</td>\n",
       "      <td>0</td>\n",
       "      <td>3</td>\n",
       "    </tr>\n",
       "    <tr>\n",
       "      <th>4</th>\n",
       "      <td>1</td>\n",
       "      <td>1</td>\n",
       "      <td>2010-05-03</td>\n",
       "      <td>21827.90</td>\n",
       "      <td>0</td>\n",
       "      <td>4</td>\n",
       "    </tr>\n",
       "  </tbody>\n",
       "</table>\n",
       "</div>"
      ],
      "text/plain": [
       "   Store  Dept       Date  Weekly_Sales  IsHoliday  Sale_Id\n",
       "0      1     1 2010-05-02      24924.50          0        0\n",
       "1      1     1 2010-12-02      46039.49          1        1\n",
       "2      1     1 2010-02-19      41595.55          0        2\n",
       "3      1     1 2010-02-26      19403.54          0        3\n",
       "4      1     1 2010-05-03      21827.90          0        4"
      ]
     },
     "execution_count": 48,
     "metadata": {},
     "output_type": "execute_result"
    }
   ],
   "source": [
    "sales_1.head()"
   ]
  },
  {
   "cell_type": "markdown",
   "metadata": {},
   "source": [
    "### Verificar la consistencia de las variables: constatar que los valores de cada atributo tienen sentido, detectar valores que no son consistentes con el resto.\n",
    "### Identificar valores atípicos en nuestro dataset. ¿Qué es conveniente hacer con ellos? Evaluar cada caso."
   ]
  },
  {
   "cell_type": "markdown",
   "metadata": {},
   "source": [
    "Analizamos si existen ventas semanales negativas"
   ]
  },
  {
   "cell_type": "code",
   "execution_count": 49,
   "metadata": {},
   "outputs": [
    {
     "data": {
      "text/html": [
       "<div>\n",
       "<style scoped>\n",
       "    .dataframe tbody tr th:only-of-type {\n",
       "        vertical-align: middle;\n",
       "    }\n",
       "\n",
       "    .dataframe tbody tr th {\n",
       "        vertical-align: top;\n",
       "    }\n",
       "\n",
       "    .dataframe thead th {\n",
       "        text-align: right;\n",
       "    }\n",
       "</style>\n",
       "<table border=\"1\" class=\"dataframe\">\n",
       "  <thead>\n",
       "    <tr style=\"text-align: right;\">\n",
       "      <th></th>\n",
       "      <th>Store</th>\n",
       "      <th>Dept</th>\n",
       "      <th>Date</th>\n",
       "      <th>Weekly_Sales</th>\n",
       "      <th>IsHoliday</th>\n",
       "      <th>Sale_Id</th>\n",
       "    </tr>\n",
       "  </thead>\n",
       "  <tbody>\n",
       "    <tr>\n",
       "      <th>count</th>\n",
       "      <td>425796.000000</td>\n",
       "      <td>425796.000000</td>\n",
       "      <td>425796</td>\n",
       "      <td>425796.000000</td>\n",
       "      <td>425796.000000</td>\n",
       "      <td>425796.000000</td>\n",
       "    </tr>\n",
       "    <tr>\n",
       "      <th>unique</th>\n",
       "      <td>NaN</td>\n",
       "      <td>NaN</td>\n",
       "      <td>143</td>\n",
       "      <td>NaN</td>\n",
       "      <td>NaN</td>\n",
       "      <td>NaN</td>\n",
       "    </tr>\n",
       "    <tr>\n",
       "      <th>top</th>\n",
       "      <td>NaN</td>\n",
       "      <td>NaN</td>\n",
       "      <td>2011-12-23 00:00:00</td>\n",
       "      <td>NaN</td>\n",
       "      <td>NaN</td>\n",
       "      <td>NaN</td>\n",
       "    </tr>\n",
       "    <tr>\n",
       "      <th>freq</th>\n",
       "      <td>NaN</td>\n",
       "      <td>NaN</td>\n",
       "      <td>3056</td>\n",
       "      <td>NaN</td>\n",
       "      <td>NaN</td>\n",
       "      <td>NaN</td>\n",
       "    </tr>\n",
       "    <tr>\n",
       "      <th>first</th>\n",
       "      <td>NaN</td>\n",
       "      <td>NaN</td>\n",
       "      <td>2010-01-10 00:00:00</td>\n",
       "      <td>NaN</td>\n",
       "      <td>NaN</td>\n",
       "      <td>NaN</td>\n",
       "    </tr>\n",
       "    <tr>\n",
       "      <th>last</th>\n",
       "      <td>NaN</td>\n",
       "      <td>NaN</td>\n",
       "      <td>2012-12-10 00:00:00</td>\n",
       "      <td>NaN</td>\n",
       "      <td>NaN</td>\n",
       "      <td>NaN</td>\n",
       "    </tr>\n",
       "    <tr>\n",
       "      <th>mean</th>\n",
       "      <td>22.200035</td>\n",
       "      <td>44.260944</td>\n",
       "      <td>NaN</td>\n",
       "      <td>15980.254676</td>\n",
       "      <td>0.261365</td>\n",
       "      <td>210779.929558</td>\n",
       "    </tr>\n",
       "    <tr>\n",
       "      <th>std</th>\n",
       "      <td>12.785342</td>\n",
       "      <td>30.494688</td>\n",
       "      <td>NaN</td>\n",
       "      <td>22711.970177</td>\n",
       "      <td>0.625209</td>\n",
       "      <td>121698.163454</td>\n",
       "    </tr>\n",
       "    <tr>\n",
       "      <th>min</th>\n",
       "      <td>1.000000</td>\n",
       "      <td>1.000000</td>\n",
       "      <td>NaN</td>\n",
       "      <td>-4988.940000</td>\n",
       "      <td>0.000000</td>\n",
       "      <td>0.000000</td>\n",
       "    </tr>\n",
       "    <tr>\n",
       "      <th>25%</th>\n",
       "      <td>11.000000</td>\n",
       "      <td>18.000000</td>\n",
       "      <td>NaN</td>\n",
       "      <td>2080.495000</td>\n",
       "      <td>0.000000</td>\n",
       "      <td>105381.750000</td>\n",
       "    </tr>\n",
       "    <tr>\n",
       "      <th>50%</th>\n",
       "      <td>22.000000</td>\n",
       "      <td>37.000000</td>\n",
       "      <td>NaN</td>\n",
       "      <td>7610.830000</td>\n",
       "      <td>0.000000</td>\n",
       "      <td>210804.500000</td>\n",
       "    </tr>\n",
       "    <tr>\n",
       "      <th>75%</th>\n",
       "      <td>33.000000</td>\n",
       "      <td>74.000000</td>\n",
       "      <td>NaN</td>\n",
       "      <td>20204.122500</td>\n",
       "      <td>0.000000</td>\n",
       "      <td>316161.250000</td>\n",
       "    </tr>\n",
       "    <tr>\n",
       "      <th>max</th>\n",
       "      <td>45.000000</td>\n",
       "      <td>99.000000</td>\n",
       "      <td>NaN</td>\n",
       "      <td>693099.360000</td>\n",
       "      <td>2.000000</td>\n",
       "      <td>421569.000000</td>\n",
       "    </tr>\n",
       "  </tbody>\n",
       "</table>\n",
       "</div>"
      ],
      "text/plain": [
       "                Store           Dept                 Date   Weekly_Sales  \\\n",
       "count   425796.000000  425796.000000               425796  425796.000000   \n",
       "unique            NaN            NaN                  143            NaN   \n",
       "top               NaN            NaN  2011-12-23 00:00:00            NaN   \n",
       "freq              NaN            NaN                 3056            NaN   \n",
       "first             NaN            NaN  2010-01-10 00:00:00            NaN   \n",
       "last              NaN            NaN  2012-12-10 00:00:00            NaN   \n",
       "mean        22.200035      44.260944                  NaN   15980.254676   \n",
       "std         12.785342      30.494688                  NaN   22711.970177   \n",
       "min          1.000000       1.000000                  NaN   -4988.940000   \n",
       "25%         11.000000      18.000000                  NaN    2080.495000   \n",
       "50%         22.000000      37.000000                  NaN    7610.830000   \n",
       "75%         33.000000      74.000000                  NaN   20204.122500   \n",
       "max         45.000000      99.000000                  NaN  693099.360000   \n",
       "\n",
       "            IsHoliday        Sale_Id  \n",
       "count   425796.000000  425796.000000  \n",
       "unique            NaN            NaN  \n",
       "top               NaN            NaN  \n",
       "freq              NaN            NaN  \n",
       "first             NaN            NaN  \n",
       "last              NaN            NaN  \n",
       "mean         0.261365  210779.929558  \n",
       "std          0.625209  121698.163454  \n",
       "min          0.000000       0.000000  \n",
       "25%          0.000000  105381.750000  \n",
       "50%          0.000000  210804.500000  \n",
       "75%          0.000000  316161.250000  \n",
       "max          2.000000  421569.000000  "
      ]
     },
     "execution_count": 49,
     "metadata": {},
     "output_type": "execute_result"
    }
   ],
   "source": [
    "sales_1.describe(include='all')"
   ]
  },
  {
   "cell_type": "markdown",
   "metadata": {},
   "source": [
    "Observamos que existen ventas negativas, asique analizamos cuantas fueron sobre el total de ventas"
   ]
  },
  {
   "cell_type": "code",
   "execution_count": 50,
   "metadata": {
    "scrolled": true
   },
   "outputs": [
    {
     "name": "stdout",
     "output_type": "stream",
     "text": [
      "Ventas semanales negativas: 1299\n",
      "Proporción sobre el total de ventas: 0.0030507567003917367\n"
     ]
    }
   ],
   "source": [
    "print(f'Ventas semanales negativas: {len(sales_1[(sales_1.Weekly_Sales < 0)])}')\n",
    "print(f'Proporción sobre el total de ventas: {len(sales_1[(sales_1.Weekly_Sales < 0)])/len(sales_1)}')"
   ]
  },
  {
   "cell_type": "markdown",
   "metadata": {},
   "source": [
    "Existen 1299 ventas semanales con valor negativo. Debería analizarse por que motivo se han cargado ventas con valores negativos. Representan el 0.3% del dataset."
   ]
  },
  {
   "cell_type": "code",
   "execution_count": 51,
   "metadata": {},
   "outputs": [
    {
     "data": {
      "image/png": "[encoded data removed]",
      "text/plain": [
       "<Figure size 720x432 with 1 Axes>"
      ]
     },
     "metadata": {
      "needs_background": "light"
     },
     "output_type": "display_data"
    }
   ],
   "source": [
    "plt.figure(figsize=(10,6))\n",
    "seaborn.boxplot(data=sales,\n",
    "             y='Weekly_Sales', \n",
    "            color='#35A7FF' )\n",
    "plt.ylabel('Weekly_Sales')\n",
    "plt.xticks(rotation=45)\n",
    "seaborn.despine()"
   ]
  },
  {
   "cell_type": "markdown",
   "metadata": {},
   "source": [
    "Se observan muchos outliers con ventas semanales mucho más altas que el resto. Habría que analizar si al separar por tipo de tienda sigue apareciendo esta relación, ya que existen 3 tipos distintos de tiendas, y de distintos tamaños, lo que indica que puede ser lógico que una tienda tenga más ventas que otras."
   ]
  },
  {
   "cell_type": "code",
   "execution_count": 52,
   "metadata": {},
   "outputs": [
    {
     "data": {
      "text/html": [
       "<div>\n",
       "<style scoped>\n",
       "    .dataframe tbody tr th:only-of-type {\n",
       "        vertical-align: middle;\n",
       "    }\n",
       "\n",
       "    .dataframe tbody tr th {\n",
       "        vertical-align: top;\n",
       "    }\n",
       "\n",
       "    .dataframe thead th {\n",
       "        text-align: right;\n",
       "    }\n",
       "</style>\n",
       "<table border=\"1\" class=\"dataframe\">\n",
       "  <thead>\n",
       "    <tr style=\"text-align: right;\">\n",
       "      <th></th>\n",
       "      <th>Store</th>\n",
       "      <th>Date</th>\n",
       "      <th>Temperature</th>\n",
       "      <th>Fuel_Price</th>\n",
       "      <th>MarkDown1</th>\n",
       "      <th>MarkDown2</th>\n",
       "      <th>MarkDown3</th>\n",
       "      <th>MarkDown4</th>\n",
       "      <th>MarkDown5</th>\n",
       "      <th>CPI</th>\n",
       "      <th>Unemployment</th>\n",
       "      <th>IsHoliday</th>\n",
       "      <th>IsMarkdown</th>\n",
       "      <th>Col3</th>\n",
       "      <th>is_na</th>\n",
       "    </tr>\n",
       "  </thead>\n",
       "  <tbody>\n",
       "    <tr>\n",
       "      <th>count</th>\n",
       "      <td>8190.000000</td>\n",
       "      <td>8190</td>\n",
       "      <td>8190.000000</td>\n",
       "      <td>8190.000000</td>\n",
       "      <td>4032.000000</td>\n",
       "      <td>2921.000000</td>\n",
       "      <td>3613.000000</td>\n",
       "      <td>3464.000000</td>\n",
       "      <td>4050.000000</td>\n",
       "      <td>7605.000000</td>\n",
       "      <td>7605.000000</td>\n",
       "      <td>8190.000000</td>\n",
       "      <td>8190</td>\n",
       "      <td>8190</td>\n",
       "      <td>8190</td>\n",
       "    </tr>\n",
       "    <tr>\n",
       "      <th>unique</th>\n",
       "      <td>NaN</td>\n",
       "      <td>182</td>\n",
       "      <td>NaN</td>\n",
       "      <td>NaN</td>\n",
       "      <td>NaN</td>\n",
       "      <td>NaN</td>\n",
       "      <td>NaN</td>\n",
       "      <td>NaN</td>\n",
       "      <td>NaN</td>\n",
       "      <td>NaN</td>\n",
       "      <td>NaN</td>\n",
       "      <td>NaN</td>\n",
       "      <td>2</td>\n",
       "      <td>8190</td>\n",
       "      <td>2</td>\n",
       "    </tr>\n",
       "    <tr>\n",
       "      <th>top</th>\n",
       "      <td>NaN</td>\n",
       "      <td>2011-07-15 00:00:00</td>\n",
       "      <td>NaN</td>\n",
       "      <td>NaN</td>\n",
       "      <td>NaN</td>\n",
       "      <td>NaN</td>\n",
       "      <td>NaN</td>\n",
       "      <td>NaN</td>\n",
       "      <td>NaN</td>\n",
       "      <td>NaN</td>\n",
       "      <td>NaN</td>\n",
       "      <td>NaN</td>\n",
       "      <td>False</td>\n",
       "      <td>402011-11-18 00:00:00</td>\n",
       "      <td>True</td>\n",
       "    </tr>\n",
       "    <tr>\n",
       "      <th>freq</th>\n",
       "      <td>NaN</td>\n",
       "      <td>45</td>\n",
       "      <td>NaN</td>\n",
       "      <td>NaN</td>\n",
       "      <td>NaN</td>\n",
       "      <td>NaN</td>\n",
       "      <td>NaN</td>\n",
       "      <td>NaN</td>\n",
       "      <td>NaN</td>\n",
       "      <td>NaN</td>\n",
       "      <td>NaN</td>\n",
       "      <td>NaN</td>\n",
       "      <td>4140</td>\n",
       "      <td>1</td>\n",
       "      <td>4140</td>\n",
       "    </tr>\n",
       "    <tr>\n",
       "      <th>first</th>\n",
       "      <td>NaN</td>\n",
       "      <td>2010-01-10 00:00:00</td>\n",
       "      <td>NaN</td>\n",
       "      <td>NaN</td>\n",
       "      <td>NaN</td>\n",
       "      <td>NaN</td>\n",
       "      <td>NaN</td>\n",
       "      <td>NaN</td>\n",
       "      <td>NaN</td>\n",
       "      <td>NaN</td>\n",
       "      <td>NaN</td>\n",
       "      <td>NaN</td>\n",
       "      <td>NaN</td>\n",
       "      <td>NaN</td>\n",
       "      <td>NaN</td>\n",
       "    </tr>\n",
       "    <tr>\n",
       "      <th>last</th>\n",
       "      <td>NaN</td>\n",
       "      <td>2013-12-07 00:00:00</td>\n",
       "      <td>NaN</td>\n",
       "      <td>NaN</td>\n",
       "      <td>NaN</td>\n",
       "      <td>NaN</td>\n",
       "      <td>NaN</td>\n",
       "      <td>NaN</td>\n",
       "      <td>NaN</td>\n",
       "      <td>NaN</td>\n",
       "      <td>NaN</td>\n",
       "      <td>NaN</td>\n",
       "      <td>NaN</td>\n",
       "      <td>NaN</td>\n",
       "      <td>NaN</td>\n",
       "    </tr>\n",
       "    <tr>\n",
       "      <th>mean</th>\n",
       "      <td>23.000000</td>\n",
       "      <td>NaN</td>\n",
       "      <td>59.356198</td>\n",
       "      <td>3.405992</td>\n",
       "      <td>7032.371786</td>\n",
       "      <td>3384.176594</td>\n",
       "      <td>1760.100180</td>\n",
       "      <td>3292.935886</td>\n",
       "      <td>4132.216422</td>\n",
       "      <td>172.460809</td>\n",
       "      <td>7.826821</td>\n",
       "      <td>0.071429</td>\n",
       "      <td>NaN</td>\n",
       "      <td>NaN</td>\n",
       "      <td>NaN</td>\n",
       "    </tr>\n",
       "    <tr>\n",
       "      <th>std</th>\n",
       "      <td>12.987966</td>\n",
       "      <td>NaN</td>\n",
       "      <td>18.678607</td>\n",
       "      <td>0.431337</td>\n",
       "      <td>9262.747448</td>\n",
       "      <td>8793.583016</td>\n",
       "      <td>11276.462208</td>\n",
       "      <td>6792.329861</td>\n",
       "      <td>13086.690278</td>\n",
       "      <td>39.738346</td>\n",
       "      <td>1.877259</td>\n",
       "      <td>0.257555</td>\n",
       "      <td>NaN</td>\n",
       "      <td>NaN</td>\n",
       "      <td>NaN</td>\n",
       "    </tr>\n",
       "    <tr>\n",
       "      <th>min</th>\n",
       "      <td>1.000000</td>\n",
       "      <td>NaN</td>\n",
       "      <td>-7.290000</td>\n",
       "      <td>2.472000</td>\n",
       "      <td>-2781.450000</td>\n",
       "      <td>-265.760000</td>\n",
       "      <td>-179.260000</td>\n",
       "      <td>0.220000</td>\n",
       "      <td>-185.170000</td>\n",
       "      <td>126.064000</td>\n",
       "      <td>3.684000</td>\n",
       "      <td>0.000000</td>\n",
       "      <td>NaN</td>\n",
       "      <td>NaN</td>\n",
       "      <td>NaN</td>\n",
       "    </tr>\n",
       "    <tr>\n",
       "      <th>25%</th>\n",
       "      <td>12.000000</td>\n",
       "      <td>NaN</td>\n",
       "      <td>45.902500</td>\n",
       "      <td>3.041000</td>\n",
       "      <td>1577.532500</td>\n",
       "      <td>68.880000</td>\n",
       "      <td>6.600000</td>\n",
       "      <td>304.687500</td>\n",
       "      <td>1440.827500</td>\n",
       "      <td>132.364839</td>\n",
       "      <td>6.634000</td>\n",
       "      <td>0.000000</td>\n",
       "      <td>NaN</td>\n",
       "      <td>NaN</td>\n",
       "      <td>NaN</td>\n",
       "    </tr>\n",
       "    <tr>\n",
       "      <th>50%</th>\n",
       "      <td>23.000000</td>\n",
       "      <td>NaN</td>\n",
       "      <td>60.710000</td>\n",
       "      <td>3.513000</td>\n",
       "      <td>4743.580000</td>\n",
       "      <td>364.570000</td>\n",
       "      <td>36.260000</td>\n",
       "      <td>1176.425000</td>\n",
       "      <td>2727.135000</td>\n",
       "      <td>182.764003</td>\n",
       "      <td>7.806000</td>\n",
       "      <td>0.000000</td>\n",
       "      <td>NaN</td>\n",
       "      <td>NaN</td>\n",
       "      <td>NaN</td>\n",
       "    </tr>\n",
       "    <tr>\n",
       "      <th>75%</th>\n",
       "      <td>34.000000</td>\n",
       "      <td>NaN</td>\n",
       "      <td>73.880000</td>\n",
       "      <td>3.743000</td>\n",
       "      <td>8923.310000</td>\n",
       "      <td>2153.350000</td>\n",
       "      <td>163.150000</td>\n",
       "      <td>3310.007500</td>\n",
       "      <td>4832.555000</td>\n",
       "      <td>213.932412</td>\n",
       "      <td>8.567000</td>\n",
       "      <td>0.000000</td>\n",
       "      <td>NaN</td>\n",
       "      <td>NaN</td>\n",
       "      <td>NaN</td>\n",
       "    </tr>\n",
       "    <tr>\n",
       "      <th>max</th>\n",
       "      <td>45.000000</td>\n",
       "      <td>NaN</td>\n",
       "      <td>101.950000</td>\n",
       "      <td>4.468000</td>\n",
       "      <td>103184.980000</td>\n",
       "      <td>104519.540000</td>\n",
       "      <td>149483.310000</td>\n",
       "      <td>67474.850000</td>\n",
       "      <td>771448.100000</td>\n",
       "      <td>228.976456</td>\n",
       "      <td>14.313000</td>\n",
       "      <td>1.000000</td>\n",
       "      <td>NaN</td>\n",
       "      <td>NaN</td>\n",
       "      <td>NaN</td>\n",
       "    </tr>\n",
       "  </tbody>\n",
       "</table>\n",
       "</div>"
      ],
      "text/plain": [
       "              Store                 Date  Temperature   Fuel_Price  \\\n",
       "count   8190.000000                 8190  8190.000000  8190.000000   \n",
       "unique          NaN                  182          NaN          NaN   \n",
       "top             NaN  2011-07-15 00:00:00          NaN          NaN   \n",
       "freq            NaN                   45          NaN          NaN   \n",
       "first           NaN  2010-01-10 00:00:00          NaN          NaN   \n",
       "last            NaN  2013-12-07 00:00:00          NaN          NaN   \n",
       "mean      23.000000                  NaN    59.356198     3.405992   \n",
       "std       12.987966                  NaN    18.678607     0.431337   \n",
       "min        1.000000                  NaN    -7.290000     2.472000   \n",
       "25%       12.000000                  NaN    45.902500     3.041000   \n",
       "50%       23.000000                  NaN    60.710000     3.513000   \n",
       "75%       34.000000                  NaN    73.880000     3.743000   \n",
       "max       45.000000                  NaN   101.950000     4.468000   \n",
       "\n",
       "            MarkDown1      MarkDown2      MarkDown3     MarkDown4  \\\n",
       "count     4032.000000    2921.000000    3613.000000   3464.000000   \n",
       "unique            NaN            NaN            NaN           NaN   \n",
       "top               NaN            NaN            NaN           NaN   \n",
       "freq              NaN            NaN            NaN           NaN   \n",
       "first             NaN            NaN            NaN           NaN   \n",
       "last              NaN            NaN            NaN           NaN   \n",
       "mean      7032.371786    3384.176594    1760.100180   3292.935886   \n",
       "std       9262.747448    8793.583016   11276.462208   6792.329861   \n",
       "min      -2781.450000    -265.760000    -179.260000      0.220000   \n",
       "25%       1577.532500      68.880000       6.600000    304.687500   \n",
       "50%       4743.580000     364.570000      36.260000   1176.425000   \n",
       "75%       8923.310000    2153.350000     163.150000   3310.007500   \n",
       "max     103184.980000  104519.540000  149483.310000  67474.850000   \n",
       "\n",
       "            MarkDown5          CPI  Unemployment    IsHoliday IsMarkdown  \\\n",
       "count     4050.000000  7605.000000   7605.000000  8190.000000       8190   \n",
       "unique            NaN          NaN           NaN          NaN          2   \n",
       "top               NaN          NaN           NaN          NaN      False   \n",
       "freq              NaN          NaN           NaN          NaN       4140   \n",
       "first             NaN          NaN           NaN          NaN        NaN   \n",
       "last              NaN          NaN           NaN          NaN        NaN   \n",
       "mean      4132.216422   172.460809      7.826821     0.071429        NaN   \n",
       "std      13086.690278    39.738346      1.877259     0.257555        NaN   \n",
       "min       -185.170000   126.064000      3.684000     0.000000        NaN   \n",
       "25%       1440.827500   132.364839      6.634000     0.000000        NaN   \n",
       "50%       2727.135000   182.764003      7.806000     0.000000        NaN   \n",
       "75%       4832.555000   213.932412      8.567000     0.000000        NaN   \n",
       "max     771448.100000   228.976456     14.313000     1.000000        NaN   \n",
       "\n",
       "                         Col3 is_na  \n",
       "count                    8190  8190  \n",
       "unique                   8190     2  \n",
       "top     402011-11-18 00:00:00  True  \n",
       "freq                        1  4140  \n",
       "first                     NaN   NaN  \n",
       "last                      NaN   NaN  \n",
       "mean                      NaN   NaN  \n",
       "std                       NaN   NaN  \n",
       "min                       NaN   NaN  \n",
       "25%                       NaN   NaN  \n",
       "50%                       NaN   NaN  \n",
       "75%                       NaN   NaN  \n",
       "max                       NaN   NaN  "
      ]
     },
     "execution_count": 52,
     "metadata": {},
     "output_type": "execute_result"
    }
   ],
   "source": [
    "features_1.describe(include='all')"
   ]
  },
  {
   "cell_type": "markdown",
   "metadata": {},
   "source": [
    "Podemos observar que en las columnas de MarkDown que sabemos que representan si hubo o no descuentos en esa semana, en algunos casos tienen valores negativos. Habría que analizar que representan realmente estos valores para entender si tiene sentido que esos valores sean negativos."
   ]
  },
  {
   "cell_type": "markdown",
   "metadata": {},
   "source": [
    "### Juntar las columnas de interés en un mismo DataFrame (Sales con Features)."
   ]
  },
  {
   "cell_type": "code",
   "execution_count": 53,
   "metadata": {},
   "outputs": [],
   "source": [
    "sales_features = pd.merge(sales_1[['Weekly_Sales', 'Date', 'Store', 'Dept']], features_1[['Temperature', 'Fuel_Price', 'CPI', 'Unemployment', 'IsHoliday', 'Date', 'IsMarkdown', 'Store','MarkDown1','MarkDown2','MarkDown3','MarkDown4','MarkDown5']], on=['Date', 'Store'])"
   ]
  },
  {
   "cell_type": "code",
   "execution_count": 54,
   "metadata": {
    "scrolled": true
   },
   "outputs": [
    {
     "data": {
      "text/html": [
       "<div>\n",
       "<style scoped>\n",
       "    .dataframe tbody tr th:only-of-type {\n",
       "        vertical-align: middle;\n",
       "    }\n",
       "\n",
       "    .dataframe tbody tr th {\n",
       "        vertical-align: top;\n",
       "    }\n",
       "\n",
       "    .dataframe thead th {\n",
       "        text-align: right;\n",
       "    }\n",
       "</style>\n",
       "<table border=\"1\" class=\"dataframe\">\n",
       "  <thead>\n",
       "    <tr style=\"text-align: right;\">\n",
       "      <th></th>\n",
       "      <th>Weekly_Sales</th>\n",
       "      <th>Date</th>\n",
       "      <th>Store</th>\n",
       "      <th>Dept</th>\n",
       "      <th>Temperature</th>\n",
       "      <th>Fuel_Price</th>\n",
       "      <th>CPI</th>\n",
       "      <th>Unemployment</th>\n",
       "      <th>IsHoliday</th>\n",
       "      <th>IsMarkdown</th>\n",
       "      <th>MarkDown1</th>\n",
       "      <th>MarkDown2</th>\n",
       "      <th>MarkDown3</th>\n",
       "      <th>MarkDown4</th>\n",
       "      <th>MarkDown5</th>\n",
       "    </tr>\n",
       "  </thead>\n",
       "  <tbody>\n",
       "    <tr>\n",
       "      <th>283395</th>\n",
       "      <td>87.80</td>\n",
       "      <td>2011-04-02</td>\n",
       "      <td>29</td>\n",
       "      <td>80</td>\n",
       "      <td>26.39</td>\n",
       "      <td>3.240</td>\n",
       "      <td>133.183419</td>\n",
       "      <td>10.256</td>\n",
       "      <td>0</td>\n",
       "      <td>False</td>\n",
       "      <td>NaN</td>\n",
       "      <td>NaN</td>\n",
       "      <td>NaN</td>\n",
       "      <td>NaN</td>\n",
       "      <td>NaN</td>\n",
       "    </tr>\n",
       "    <tr>\n",
       "      <th>7281</th>\n",
       "      <td>16758.49</td>\n",
       "      <td>2012-06-01</td>\n",
       "      <td>1</td>\n",
       "      <td>46</td>\n",
       "      <td>49.01</td>\n",
       "      <td>3.157</td>\n",
       "      <td>219.714258</td>\n",
       "      <td>7.348</td>\n",
       "      <td>0</td>\n",
       "      <td>True</td>\n",
       "      <td>6277.39</td>\n",
       "      <td>21813.16</td>\n",
       "      <td>143.10</td>\n",
       "      <td>1450.13</td>\n",
       "      <td>8483.00</td>\n",
       "    </tr>\n",
       "    <tr>\n",
       "      <th>247011</th>\n",
       "      <td>8627.50</td>\n",
       "      <td>2012-02-03</td>\n",
       "      <td>25</td>\n",
       "      <td>91</td>\n",
       "      <td>36.01</td>\n",
       "      <td>3.816</td>\n",
       "      <td>213.671813</td>\n",
       "      <td>6.961</td>\n",
       "      <td>0</td>\n",
       "      <td>True</td>\n",
       "      <td>14860.09</td>\n",
       "      <td>3050.12</td>\n",
       "      <td>21.38</td>\n",
       "      <td>12085.01</td>\n",
       "      <td>1327.97</td>\n",
       "    </tr>\n",
       "    <tr>\n",
       "      <th>302381</th>\n",
       "      <td>122613.50</td>\n",
       "      <td>2011-12-08</td>\n",
       "      <td>31</td>\n",
       "      <td>95</td>\n",
       "      <td>92.32</td>\n",
       "      <td>3.638</td>\n",
       "      <td>215.259321</td>\n",
       "      <td>7.852</td>\n",
       "      <td>0</td>\n",
       "      <td>False</td>\n",
       "      <td>NaN</td>\n",
       "      <td>NaN</td>\n",
       "      <td>NaN</td>\n",
       "      <td>NaN</td>\n",
       "      <td>NaN</td>\n",
       "    </tr>\n",
       "    <tr>\n",
       "      <th>402927</th>\n",
       "      <td>13457.02</td>\n",
       "      <td>2010-06-18</td>\n",
       "      <td>43</td>\n",
       "      <td>8</td>\n",
       "      <td>84.90</td>\n",
       "      <td>2.637</td>\n",
       "      <td>203.370619</td>\n",
       "      <td>9.593</td>\n",
       "      <td>0</td>\n",
       "      <td>False</td>\n",
       "      <td>NaN</td>\n",
       "      <td>NaN</td>\n",
       "      <td>NaN</td>\n",
       "      <td>NaN</td>\n",
       "      <td>NaN</td>\n",
       "    </tr>\n",
       "    <tr>\n",
       "      <th>168466</th>\n",
       "      <td>21218.27</td>\n",
       "      <td>2012-07-09</td>\n",
       "      <td>17</td>\n",
       "      <td>5</td>\n",
       "      <td>61.99</td>\n",
       "      <td>3.689</td>\n",
       "      <td>130.932548</td>\n",
       "      <td>5.936</td>\n",
       "      <td>1</td>\n",
       "      <td>True</td>\n",
       "      <td>13396.45</td>\n",
       "      <td>NaN</td>\n",
       "      <td>18.08</td>\n",
       "      <td>1299.65</td>\n",
       "      <td>1333.12</td>\n",
       "    </tr>\n",
       "    <tr>\n",
       "      <th>110721</th>\n",
       "      <td>20460.62</td>\n",
       "      <td>2010-07-30</td>\n",
       "      <td>12</td>\n",
       "      <td>9</td>\n",
       "      <td>96.31</td>\n",
       "      <td>3.017</td>\n",
       "      <td>126.106903</td>\n",
       "      <td>14.180</td>\n",
       "      <td>0</td>\n",
       "      <td>False</td>\n",
       "      <td>NaN</td>\n",
       "      <td>NaN</td>\n",
       "      <td>NaN</td>\n",
       "      <td>NaN</td>\n",
       "      <td>NaN</td>\n",
       "    </tr>\n",
       "    <tr>\n",
       "      <th>79158</th>\n",
       "      <td>19937.54</td>\n",
       "      <td>2012-09-28</td>\n",
       "      <td>8</td>\n",
       "      <td>79</td>\n",
       "      <td>71.10</td>\n",
       "      <td>3.666</td>\n",
       "      <td>226.567571</td>\n",
       "      <td>5.401</td>\n",
       "      <td>0</td>\n",
       "      <td>True</td>\n",
       "      <td>5518.65</td>\n",
       "      <td>1.91</td>\n",
       "      <td>0.55</td>\n",
       "      <td>1103.02</td>\n",
       "      <td>2049.02</td>\n",
       "    </tr>\n",
       "    <tr>\n",
       "      <th>159981</th>\n",
       "      <td>7000.51</td>\n",
       "      <td>2010-04-30</td>\n",
       "      <td>17</td>\n",
       "      <td>97</td>\n",
       "      <td>43.82</td>\n",
       "      <td>2.941</td>\n",
       "      <td>126.380567</td>\n",
       "      <td>6.635</td>\n",
       "      <td>0</td>\n",
       "      <td>False</td>\n",
       "      <td>NaN</td>\n",
       "      <td>NaN</td>\n",
       "      <td>NaN</td>\n",
       "      <td>NaN</td>\n",
       "      <td>NaN</td>\n",
       "    </tr>\n",
       "    <tr>\n",
       "      <th>68788</th>\n",
       "      <td>929.68</td>\n",
       "      <td>2012-08-24</td>\n",
       "      <td>7</td>\n",
       "      <td>36</td>\n",
       "      <td>59.27</td>\n",
       "      <td>3.558</td>\n",
       "      <td>198.098420</td>\n",
       "      <td>7.872</td>\n",
       "      <td>0</td>\n",
       "      <td>True</td>\n",
       "      <td>2534.52</td>\n",
       "      <td>19.60</td>\n",
       "      <td>1.86</td>\n",
       "      <td>1627.26</td>\n",
       "      <td>3915.85</td>\n",
       "    </tr>\n",
       "    <tr>\n",
       "      <th>116306</th>\n",
       "      <td>28310.70</td>\n",
       "      <td>2012-02-24</td>\n",
       "      <td>12</td>\n",
       "      <td>4</td>\n",
       "      <td>53.13</td>\n",
       "      <td>3.950</td>\n",
       "      <td>130.550207</td>\n",
       "      <td>12.187</td>\n",
       "      <td>0</td>\n",
       "      <td>True</td>\n",
       "      <td>12862.31</td>\n",
       "      <td>5681.93</td>\n",
       "      <td>2.00</td>\n",
       "      <td>2401.22</td>\n",
       "      <td>5131.37</td>\n",
       "    </tr>\n",
       "    <tr>\n",
       "      <th>164158</th>\n",
       "      <td>15626.86</td>\n",
       "      <td>2011-01-07</td>\n",
       "      <td>17</td>\n",
       "      <td>81</td>\n",
       "      <td>67.39</td>\n",
       "      <td>3.613</td>\n",
       "      <td>129.089400</td>\n",
       "      <td>6.745</td>\n",
       "      <td>0</td>\n",
       "      <td>False</td>\n",
       "      <td>NaN</td>\n",
       "      <td>NaN</td>\n",
       "      <td>NaN</td>\n",
       "      <td>NaN</td>\n",
       "      <td>NaN</td>\n",
       "    </tr>\n",
       "    <tr>\n",
       "      <th>358500</th>\n",
       "      <td>894.63</td>\n",
       "      <td>2010-07-23</td>\n",
       "      <td>38</td>\n",
       "      <td>21</td>\n",
       "      <td>99.22</td>\n",
       "      <td>3.112</td>\n",
       "      <td>126.128355</td>\n",
       "      <td>14.180</td>\n",
       "      <td>0</td>\n",
       "      <td>False</td>\n",
       "      <td>NaN</td>\n",
       "      <td>NaN</td>\n",
       "      <td>NaN</td>\n",
       "      <td>NaN</td>\n",
       "      <td>NaN</td>\n",
       "    </tr>\n",
       "    <tr>\n",
       "      <th>407469</th>\n",
       "      <td>5099.87</td>\n",
       "      <td>2012-04-13</td>\n",
       "      <td>43</td>\n",
       "      <td>83</td>\n",
       "      <td>70.18</td>\n",
       "      <td>3.891</td>\n",
       "      <td>212.963286</td>\n",
       "      <td>9.575</td>\n",
       "      <td>0</td>\n",
       "      <td>True</td>\n",
       "      <td>150.15</td>\n",
       "      <td>1125.71</td>\n",
       "      <td>4.49</td>\n",
       "      <td>NaN</td>\n",
       "      <td>407.12</td>\n",
       "    </tr>\n",
       "    <tr>\n",
       "      <th>317704</th>\n",
       "      <td>42.05</td>\n",
       "      <td>2010-04-30</td>\n",
       "      <td>33</td>\n",
       "      <td>3</td>\n",
       "      <td>73.29</td>\n",
       "      <td>3.105</td>\n",
       "      <td>126.380567</td>\n",
       "      <td>9.849</td>\n",
       "      <td>0</td>\n",
       "      <td>False</td>\n",
       "      <td>NaN</td>\n",
       "      <td>NaN</td>\n",
       "      <td>NaN</td>\n",
       "      <td>NaN</td>\n",
       "      <td>NaN</td>\n",
       "    </tr>\n",
       "    <tr>\n",
       "      <th>403605</th>\n",
       "      <td>19906.69</td>\n",
       "      <td>2010-09-24</td>\n",
       "      <td>43</td>\n",
       "      <td>13</td>\n",
       "      <td>77.42</td>\n",
       "      <td>2.624</td>\n",
       "      <td>203.521679</td>\n",
       "      <td>9.816</td>\n",
       "      <td>0</td>\n",
       "      <td>False</td>\n",
       "      <td>NaN</td>\n",
       "      <td>NaN</td>\n",
       "      <td>NaN</td>\n",
       "      <td>NaN</td>\n",
       "      <td>NaN</td>\n",
       "    </tr>\n",
       "    <tr>\n",
       "      <th>346014</th>\n",
       "      <td>525.13</td>\n",
       "      <td>2011-11-02</td>\n",
       "      <td>36</td>\n",
       "      <td>16</td>\n",
       "      <td>41.16</td>\n",
       "      <td>3.009</td>\n",
       "      <td>211.698509</td>\n",
       "      <td>8.395</td>\n",
       "      <td>1</td>\n",
       "      <td>False</td>\n",
       "      <td>NaN</td>\n",
       "      <td>NaN</td>\n",
       "      <td>NaN</td>\n",
       "      <td>NaN</td>\n",
       "      <td>NaN</td>\n",
       "    </tr>\n",
       "    <tr>\n",
       "      <th>162854</th>\n",
       "      <td>16274.54</td>\n",
       "      <td>2011-02-18</td>\n",
       "      <td>17</td>\n",
       "      <td>82</td>\n",
       "      <td>26.86</td>\n",
       "      <td>3.062</td>\n",
       "      <td>127.995250</td>\n",
       "      <td>6.866</td>\n",
       "      <td>0</td>\n",
       "      <td>False</td>\n",
       "      <td>NaN</td>\n",
       "      <td>NaN</td>\n",
       "      <td>NaN</td>\n",
       "      <td>NaN</td>\n",
       "      <td>NaN</td>\n",
       "    </tr>\n",
       "    <tr>\n",
       "      <th>320889</th>\n",
       "      <td>26265.65</td>\n",
       "      <td>2011-08-26</td>\n",
       "      <td>33</td>\n",
       "      <td>94</td>\n",
       "      <td>99.66</td>\n",
       "      <td>3.663</td>\n",
       "      <td>129.283258</td>\n",
       "      <td>8.442</td>\n",
       "      <td>0</td>\n",
       "      <td>False</td>\n",
       "      <td>NaN</td>\n",
       "      <td>NaN</td>\n",
       "      <td>NaN</td>\n",
       "      <td>NaN</td>\n",
       "      <td>NaN</td>\n",
       "    </tr>\n",
       "    <tr>\n",
       "      <th>120277</th>\n",
       "      <td>9707.92</td>\n",
       "      <td>2010-06-18</td>\n",
       "      <td>13</td>\n",
       "      <td>96</td>\n",
       "      <td>58.41</td>\n",
       "      <td>2.819</td>\n",
       "      <td>126.114000</td>\n",
       "      <td>8.107</td>\n",
       "      <td>0</td>\n",
       "      <td>False</td>\n",
       "      <td>NaN</td>\n",
       "      <td>NaN</td>\n",
       "      <td>NaN</td>\n",
       "      <td>NaN</td>\n",
       "      <td>NaN</td>\n",
       "    </tr>\n",
       "    <tr>\n",
       "      <th>369087</th>\n",
       "      <td>42831.51</td>\n",
       "      <td>2011-04-15</td>\n",
       "      <td>39</td>\n",
       "      <td>72</td>\n",
       "      <td>73.19</td>\n",
       "      <td>3.743</td>\n",
       "      <td>214.026217</td>\n",
       "      <td>8.300</td>\n",
       "      <td>0</td>\n",
       "      <td>False</td>\n",
       "      <td>NaN</td>\n",
       "      <td>NaN</td>\n",
       "      <td>NaN</td>\n",
       "      <td>NaN</td>\n",
       "      <td>NaN</td>\n",
       "    </tr>\n",
       "    <tr>\n",
       "      <th>357895</th>\n",
       "      <td>289.95</td>\n",
       "      <td>2010-04-30</td>\n",
       "      <td>38</td>\n",
       "      <td>17</td>\n",
       "      <td>67.38</td>\n",
       "      <td>3.105</td>\n",
       "      <td>126.380567</td>\n",
       "      <td>14.099</td>\n",
       "      <td>0</td>\n",
       "      <td>False</td>\n",
       "      <td>NaN</td>\n",
       "      <td>NaN</td>\n",
       "      <td>NaN</td>\n",
       "      <td>NaN</td>\n",
       "      <td>NaN</td>\n",
       "    </tr>\n",
       "    <tr>\n",
       "      <th>202061</th>\n",
       "      <td>1081.00</td>\n",
       "      <td>2010-10-22</td>\n",
       "      <td>21</td>\n",
       "      <td>36</td>\n",
       "      <td>70.72</td>\n",
       "      <td>2.725</td>\n",
       "      <td>211.518721</td>\n",
       "      <td>8.163</td>\n",
       "      <td>0</td>\n",
       "      <td>False</td>\n",
       "      <td>NaN</td>\n",
       "      <td>NaN</td>\n",
       "      <td>NaN</td>\n",
       "      <td>NaN</td>\n",
       "      <td>NaN</td>\n",
       "    </tr>\n",
       "    <tr>\n",
       "      <th>354243</th>\n",
       "      <td>422.46</td>\n",
       "      <td>2011-09-23</td>\n",
       "      <td>37</td>\n",
       "      <td>10</td>\n",
       "      <td>78.35</td>\n",
       "      <td>3.467</td>\n",
       "      <td>215.123319</td>\n",
       "      <td>8.177</td>\n",
       "      <td>0</td>\n",
       "      <td>False</td>\n",
       "      <td>NaN</td>\n",
       "      <td>NaN</td>\n",
       "      <td>NaN</td>\n",
       "      <td>NaN</td>\n",
       "      <td>NaN</td>\n",
       "    </tr>\n",
       "    <tr>\n",
       "      <th>137441</th>\n",
       "      <td>106335.04</td>\n",
       "      <td>2012-06-04</td>\n",
       "      <td>14</td>\n",
       "      <td>91</td>\n",
       "      <td>49.73</td>\n",
       "      <td>3.996</td>\n",
       "      <td>190.685171</td>\n",
       "      <td>8.567</td>\n",
       "      <td>0</td>\n",
       "      <td>True</td>\n",
       "      <td>8376.85</td>\n",
       "      <td>NaN</td>\n",
       "      <td>81.19</td>\n",
       "      <td>3578.40</td>\n",
       "      <td>4857.19</td>\n",
       "    </tr>\n",
       "    <tr>\n",
       "      <th>366814</th>\n",
       "      <td>28276.98</td>\n",
       "      <td>2010-03-09</td>\n",
       "      <td>39</td>\n",
       "      <td>7</td>\n",
       "      <td>82.13</td>\n",
       "      <td>2.577</td>\n",
       "      <td>210.296663</td>\n",
       "      <td>8.360</td>\n",
       "      <td>0</td>\n",
       "      <td>False</td>\n",
       "      <td>NaN</td>\n",
       "      <td>NaN</td>\n",
       "      <td>NaN</td>\n",
       "      <td>NaN</td>\n",
       "      <td>NaN</td>\n",
       "    </tr>\n",
       "    <tr>\n",
       "      <th>38303</th>\n",
       "      <td>39548.59</td>\n",
       "      <td>2012-04-27</td>\n",
       "      <td>4</td>\n",
       "      <td>10</td>\n",
       "      <td>76.47</td>\n",
       "      <td>3.810</td>\n",
       "      <td>131.126667</td>\n",
       "      <td>4.308</td>\n",
       "      <td>0</td>\n",
       "      <td>True</td>\n",
       "      <td>3993.66</td>\n",
       "      <td>97.77</td>\n",
       "      <td>26.68</td>\n",
       "      <td>113.37</td>\n",
       "      <td>3947.45</td>\n",
       "    </tr>\n",
       "    <tr>\n",
       "      <th>394823</th>\n",
       "      <td>97542.45</td>\n",
       "      <td>2012-12-10</td>\n",
       "      <td>41</td>\n",
       "      <td>95</td>\n",
       "      <td>39.38</td>\n",
       "      <td>3.760</td>\n",
       "      <td>199.053937</td>\n",
       "      <td>6.195</td>\n",
       "      <td>0</td>\n",
       "      <td>True</td>\n",
       "      <td>1570.23</td>\n",
       "      <td>NaN</td>\n",
       "      <td>26.31</td>\n",
       "      <td>834.80</td>\n",
       "      <td>14421.12</td>\n",
       "    </tr>\n",
       "    <tr>\n",
       "      <th>161901</th>\n",
       "      <td>4895.32</td>\n",
       "      <td>2010-11-19</td>\n",
       "      <td>17</td>\n",
       "      <td>6</td>\n",
       "      <td>36.31</td>\n",
       "      <td>2.842</td>\n",
       "      <td>126.607200</td>\n",
       "      <td>6.885</td>\n",
       "      <td>0</td>\n",
       "      <td>False</td>\n",
       "      <td>NaN</td>\n",
       "      <td>NaN</td>\n",
       "      <td>NaN</td>\n",
       "      <td>NaN</td>\n",
       "      <td>NaN</td>\n",
       "    </tr>\n",
       "    <tr>\n",
       "      <th>144516</th>\n",
       "      <td>120.78</td>\n",
       "      <td>2011-06-17</td>\n",
       "      <td>15</td>\n",
       "      <td>59</td>\n",
       "      <td>63.90</td>\n",
       "      <td>3.989</td>\n",
       "      <td>135.083733</td>\n",
       "      <td>7.658</td>\n",
       "      <td>0</td>\n",
       "      <td>False</td>\n",
       "      <td>NaN</td>\n",
       "      <td>NaN</td>\n",
       "      <td>NaN</td>\n",
       "      <td>NaN</td>\n",
       "      <td>NaN</td>\n",
       "    </tr>\n",
       "  </tbody>\n",
       "</table>\n",
       "</div>"
      ],
      "text/plain": [
       "        Weekly_Sales       Date  Store  Dept  Temperature  Fuel_Price  \\\n",
       "283395         87.80 2011-04-02     29    80        26.39       3.240   \n",
       "7281        16758.49 2012-06-01      1    46        49.01       3.157   \n",
       "247011       8627.50 2012-02-03     25    91        36.01       3.816   \n",
       "302381     122613.50 2011-12-08     31    95        92.32       3.638   \n",
       "402927      13457.02 2010-06-18     43     8        84.90       2.637   \n",
       "168466      21218.27 2012-07-09     17     5        61.99       3.689   \n",
       "110721      20460.62 2010-07-30     12     9        96.31       3.017   \n",
       "79158       19937.54 2012-09-28      8    79        71.10       3.666   \n",
       "159981       7000.51 2010-04-30     17    97        43.82       2.941   \n",
       "68788         929.68 2012-08-24      7    36        59.27       3.558   \n",
       "116306      28310.70 2012-02-24     12     4        53.13       3.950   \n",
       "164158      15626.86 2011-01-07     17    81        67.39       3.613   \n",
       "358500        894.63 2010-07-23     38    21        99.22       3.112   \n",
       "407469       5099.87 2012-04-13     43    83        70.18       3.891   \n",
       "317704         42.05 2010-04-30     33     3        73.29       3.105   \n",
       "403605      19906.69 2010-09-24     43    13        77.42       2.624   \n",
       "346014        525.13 2011-11-02     36    16        41.16       3.009   \n",
       "162854      16274.54 2011-02-18     17    82        26.86       3.062   \n",
       "320889      26265.65 2011-08-26     33    94        99.66       3.663   \n",
       "120277       9707.92 2010-06-18     13    96        58.41       2.819   \n",
       "369087      42831.51 2011-04-15     39    72        73.19       3.743   \n",
       "357895        289.95 2010-04-30     38    17        67.38       3.105   \n",
       "202061       1081.00 2010-10-22     21    36        70.72       2.725   \n",
       "354243        422.46 2011-09-23     37    10        78.35       3.467   \n",
       "137441     106335.04 2012-06-04     14    91        49.73       3.996   \n",
       "366814      28276.98 2010-03-09     39     7        82.13       2.577   \n",
       "38303       39548.59 2012-04-27      4    10        76.47       3.810   \n",
       "394823      97542.45 2012-12-10     41    95        39.38       3.760   \n",
       "161901       4895.32 2010-11-19     17     6        36.31       2.842   \n",
       "144516        120.78 2011-06-17     15    59        63.90       3.989   \n",
       "\n",
       "               CPI  Unemployment  IsHoliday  IsMarkdown  MarkDown1  MarkDown2  \\\n",
       "283395  133.183419        10.256          0       False        NaN        NaN   \n",
       "7281    219.714258         7.348          0        True    6277.39   21813.16   \n",
       "247011  213.671813         6.961          0        True   14860.09    3050.12   \n",
       "302381  215.259321         7.852          0       False        NaN        NaN   \n",
       "402927  203.370619         9.593          0       False        NaN        NaN   \n",
       "168466  130.932548         5.936          1        True   13396.45        NaN   \n",
       "110721  126.106903        14.180          0       False        NaN        NaN   \n",
       "79158   226.567571         5.401          0        True    5518.65       1.91   \n",
       "159981  126.380567         6.635          0       False        NaN        NaN   \n",
       "68788   198.098420         7.872          0        True    2534.52      19.60   \n",
       "116306  130.550207        12.187          0        True   12862.31    5681.93   \n",
       "164158  129.089400         6.745          0       False        NaN        NaN   \n",
       "358500  126.128355        14.180          0       False        NaN        NaN   \n",
       "407469  212.963286         9.575          0        True     150.15    1125.71   \n",
       "317704  126.380567         9.849          0       False        NaN        NaN   \n",
       "403605  203.521679         9.816          0       False        NaN        NaN   \n",
       "346014  211.698509         8.395          1       False        NaN        NaN   \n",
       "162854  127.995250         6.866          0       False        NaN        NaN   \n",
       "320889  129.283258         8.442          0       False        NaN        NaN   \n",
       "120277  126.114000         8.107          0       False        NaN        NaN   \n",
       "369087  214.026217         8.300          0       False        NaN        NaN   \n",
       "357895  126.380567        14.099          0       False        NaN        NaN   \n",
       "202061  211.518721         8.163          0       False        NaN        NaN   \n",
       "354243  215.123319         8.177          0       False        NaN        NaN   \n",
       "137441  190.685171         8.567          0        True    8376.85        NaN   \n",
       "366814  210.296663         8.360          0       False        NaN        NaN   \n",
       "38303   131.126667         4.308          0        True    3993.66      97.77   \n",
       "394823  199.053937         6.195          0        True    1570.23        NaN   \n",
       "161901  126.607200         6.885          0       False        NaN        NaN   \n",
       "144516  135.083733         7.658          0       False        NaN        NaN   \n",
       "\n",
       "        MarkDown3  MarkDown4  MarkDown5  \n",
       "283395        NaN        NaN        NaN  \n",
       "7281       143.10    1450.13    8483.00  \n",
       "247011      21.38   12085.01    1327.97  \n",
       "302381        NaN        NaN        NaN  \n",
       "402927        NaN        NaN        NaN  \n",
       "168466      18.08    1299.65    1333.12  \n",
       "110721        NaN        NaN        NaN  \n",
       "79158        0.55    1103.02    2049.02  \n",
       "159981        NaN        NaN        NaN  \n",
       "68788        1.86    1627.26    3915.85  \n",
       "116306       2.00    2401.22    5131.37  \n",
       "164158        NaN        NaN        NaN  \n",
       "358500        NaN        NaN        NaN  \n",
       "407469       4.49        NaN     407.12  \n",
       "317704        NaN        NaN        NaN  \n",
       "403605        NaN        NaN        NaN  \n",
       "346014        NaN        NaN        NaN  \n",
       "162854        NaN        NaN        NaN  \n",
       "320889        NaN        NaN        NaN  \n",
       "120277        NaN        NaN        NaN  \n",
       "369087        NaN        NaN        NaN  \n",
       "357895        NaN        NaN        NaN  \n",
       "202061        NaN        NaN        NaN  \n",
       "354243        NaN        NaN        NaN  \n",
       "137441      81.19    3578.40    4857.19  \n",
       "366814        NaN        NaN        NaN  \n",
       "38303       26.68     113.37    3947.45  \n",
       "394823      26.31     834.80   14421.12  \n",
       "161901        NaN        NaN        NaN  \n",
       "144516        NaN        NaN        NaN  "
      ]
     },
     "execution_count": 54,
     "metadata": {},
     "output_type": "execute_result"
    }
   ],
   "source": [
    "sales_features.sample(30)"
   ]
  },
  {
   "cell_type": "markdown",
   "metadata": {},
   "source": [
    "### Para simplificar el problema resamplear los datos ¿Transformar Weekly sales en ventas mensuales?. Graficar la distribución de las ventas mensuales para cada año para 5 tiendas a elección. Comparar sus distribuciones. ¿Se reconoce alguna distribución conocida?"
   ]
  },
  {
   "cell_type": "code",
   "execution_count": 55,
   "metadata": {},
   "outputs": [],
   "source": [
    "def resample_store(store_id):\n",
    "    store_sales = sales_1[sales_1.Store==store_id].copy()\n",
    "    monthly = store_sales.loc[:, ['Weekly_Sales']]\n",
    "    monthly = monthly.set_index(store_sales.Date)\n",
    "    monthly['Weekly_Sales'] = pd.to_numeric(monthly['Weekly_Sales'], downcast='float', errors='coerce')\n",
    "    monthly.rename(columns={'Weekly_Sales': 'Monthly_Sales'}, inplace=True)\n",
    "    return monthly.resample('M').sum()"
   ]
  },
  {
   "cell_type": "code",
   "execution_count": 56,
   "metadata": {
    "scrolled": true
   },
   "outputs": [
    {
     "name": "stdout",
     "output_type": "stream",
     "text": [
      "Ventas mensuales para la tienda 5:\n"
     ]
    },
    {
     "data": {
      "text/plain": [
       "<matplotlib.axes._subplots.AxesSubplot at 0x1a21fa0be0>"
      ]
     },
     "execution_count": 56,
     "metadata": {},
     "output_type": "execute_result"
    },
    {
     "data": {
      "image/png": "[encoded data removed]",
      "text/plain": [
       "<Figure size 1080x576 with 1 Axes>"
      ]
     },
     "metadata": {
      "needs_background": "light"
     },
     "output_type": "display_data"
    }
   ],
   "source": [
    "print('Ventas mensuales para la tienda 5:')\n",
    "monthly_5 = resample_store(5)\n",
    "monthly_5.plot(figsize=(15,8), style=[':', '--', '-'])"
   ]
  },
  {
   "cell_type": "code",
   "execution_count": 57,
   "metadata": {},
   "outputs": [
    {
     "data": {
      "image/png": "[encoded data removed]",
      "text/plain": [
       "<Figure size 720x432 with 1 Axes>"
      ]
     },
     "metadata": {
      "needs_background": "light"
     },
     "output_type": "display_data"
    }
   ],
   "source": [
    "sl5=sales_1[sales_1['Store']==5].groupby([sales_1['Date'].dt.month,sales_1['Date'].dt.year]).agg('mean')\n",
    "plt.figure(figsize=(10,6))\n",
    "seaborn.distplot(sl5['Weekly_Sales'], bins=5, color='#6BF178', label='Ventas mensuales tienda 5')\n",
    "plt.legend(bbox_to_anchor=(1, 1), loc=2, borderaxespad=0.)\n",
    "plt.ylabel('Frecuencia relativa')\n",
    "seaborn.despine()\n"
   ]
  },
  {
   "cell_type": "code",
   "execution_count": 58,
   "metadata": {},
   "outputs": [
    {
     "name": "stdout",
     "output_type": "stream",
     "text": [
      "Ventas mensuales para la tienda 15:\n"
     ]
    },
    {
     "data": {
      "text/plain": [
       "<matplotlib.axes._subplots.AxesSubplot at 0x1a20ee0c88>"
      ]
     },
     "execution_count": 58,
     "metadata": {},
     "output_type": "execute_result"
    },
    {
     "data": {
      "image/png": "[encoded data removed]",
      "text/plain": [
       "<Figure size 1080x576 with 1 Axes>"
      ]
     },
     "metadata": {
      "needs_background": "light"
     },
     "output_type": "display_data"
    }
   ],
   "source": [
    "print('Ventas mensuales para la tienda 15:')\n",
    "monthly_15 = resample_store(15)\n",
    "monthly_15.plot(figsize=(15,8), style=[':', '--', '-'])"
   ]
  },
  {
   "cell_type": "code",
   "execution_count": 59,
   "metadata": {},
   "outputs": [
    {
     "data": {
      "image/png": "[encoded data removed]",
      "text/plain": [
       "<Figure size 720x432 with 1 Axes>"
      ]
     },
     "metadata": {
      "needs_background": "light"
     },
     "output_type": "display_data"
    }
   ],
   "source": [
    "sl15=sales_1[sales_1['Store']==15].groupby([sales_1['Date'].dt.month,sales_1['Date'].dt.year]).agg('mean')\n",
    "plt.figure(figsize=(10,6))\n",
    "seaborn.distplot(sl15['Weekly_Sales'], bins=5, color='#6BF178', label='Ventas mensuales')\n",
    "plt.legend(bbox_to_anchor=(1, 1), loc=2, borderaxespad=0.)\n",
    "plt.ylabel('Frecuencia relativa')\n",
    "seaborn.despine()"
   ]
  },
  {
   "cell_type": "code",
   "execution_count": 60,
   "metadata": {},
   "outputs": [
    {
     "name": "stdout",
     "output_type": "stream",
     "text": [
      "Ventas mensuales para la tienda 25:\n"
     ]
    },
    {
     "data": {
      "text/plain": [
       "<matplotlib.axes._subplots.AxesSubplot at 0x1a216bfda0>"
      ]
     },
     "execution_count": 60,
     "metadata": {},
     "output_type": "execute_result"
    },
    {
     "data": {
      "image/png": "[encoded data removed]",
      "text/plain": [
       "<Figure size 1080x576 with 1 Axes>"
      ]
     },
     "metadata": {
      "needs_background": "light"
     },
     "output_type": "display_data"
    }
   ],
   "source": [
    "print('Ventas mensuales para la tienda 25:')\n",
    "monthly_25 = resample_store(25)\n",
    "monthly_25.plot(figsize=(15,8), style=[':', '--', '-'])"
   ]
  },
  {
   "cell_type": "code",
   "execution_count": 61,
   "metadata": {},
   "outputs": [
    {
     "data": {
      "image/png": "[encoded data removed]",
      "text/plain": [
       "<Figure size 720x432 with 1 Axes>"
      ]
     },
     "metadata": {
      "needs_background": "light"
     },
     "output_type": "display_data"
    }
   ],
   "source": [
    "sl25=sales_1[sales_1['Store']==25].groupby([sales_1['Date'].dt.month,sales_1['Date'].dt.year]).agg('mean')\n",
    "plt.figure(figsize=(10,6))\n",
    "seaborn.distplot(sl25['Weekly_Sales'], bins=5, color='#6BF178', label='Ventas mensuales')\n",
    "plt.legend(bbox_to_anchor=(1, 1), loc=2, borderaxespad=0.)\n",
    "plt.ylabel('Frecuencia relativa')\n",
    "seaborn.despine()"
   ]
  },
  {
   "cell_type": "code",
   "execution_count": 62,
   "metadata": {},
   "outputs": [
    {
     "name": "stdout",
     "output_type": "stream",
     "text": [
      "Ventas mensuales para la tienda 35:\n"
     ]
    },
    {
     "data": {
      "text/plain": [
       "<matplotlib.axes._subplots.AxesSubplot at 0x1a214f5f28>"
      ]
     },
     "execution_count": 62,
     "metadata": {},
     "output_type": "execute_result"
    },
    {
     "data": {
      "image/png": "[encoded data removed]",
      "text/plain": [
       "<Figure size 1080x576 with 1 Axes>"
      ]
     },
     "metadata": {
      "needs_background": "light"
     },
     "output_type": "display_data"
    }
   ],
   "source": [
    "print('Ventas mensuales para la tienda 35:')\n",
    "monthly_35 = resample_store(35)\n",
    "monthly_35.plot(figsize=(15,8), style=[':', '--', '-'])"
   ]
  },
  {
   "cell_type": "code",
   "execution_count": 63,
   "metadata": {},
   "outputs": [
    {
     "data": {
      "image/png": "[encoded data removed]",
      "text/plain": [
       "<Figure size 720x432 with 1 Axes>"
      ]
     },
     "metadata": {
      "needs_background": "light"
     },
     "output_type": "display_data"
    }
   ],
   "source": [
    "sl35=sales_1[sales_1['Store']==35].groupby([sales_1['Date'].dt.month,sales_1['Date'].dt.year]).agg('mean')\n",
    "plt.figure(figsize=(10,6))\n",
    "seaborn.distplot(sl35['Weekly_Sales'], bins=5, color='#6BF178', label='Ventas mensuales')\n",
    "plt.legend(bbox_to_anchor=(1, 1), loc=2, borderaxespad=0.)\n",
    "plt.ylabel('Frecuencia relativa')\n",
    "seaborn.despine()"
   ]
  },
  {
   "cell_type": "code",
   "execution_count": 64,
   "metadata": {},
   "outputs": [
    {
     "name": "stdout",
     "output_type": "stream",
     "text": [
      "Ventas mensuales para la tienda 45:\n"
     ]
    },
    {
     "data": {
      "text/plain": [
       "<matplotlib.axes._subplots.AxesSubplot at 0x1a217ad1d0>"
      ]
     },
     "execution_count": 64,
     "metadata": {},
     "output_type": "execute_result"
    },
    {
     "data": {
      "image/png": "[encoded data removed]",
      "text/plain": [
       "<Figure size 1080x576 with 1 Axes>"
      ]
     },
     "metadata": {
      "needs_background": "light"
     },
     "output_type": "display_data"
    }
   ],
   "source": [
    "print('Ventas mensuales para la tienda 45:')\n",
    "monthly_45 = resample_store(45)\n",
    "monthly_45.plot(figsize=(15,8), style=[':', '--', '-'])"
   ]
  },
  {
   "cell_type": "code",
   "execution_count": 65,
   "metadata": {},
   "outputs": [
    {
     "data": {
      "image/png": "[encoded data removed]",
      "text/plain": [
       "<Figure size 720x432 with 1 Axes>"
      ]
     },
     "metadata": {
      "needs_background": "light"
     },
     "output_type": "display_data"
    }
   ],
   "source": [
    "sl45=sales_1[sales_1['Store']==45].groupby([sales_1['Date'].dt.month,sales_1['Date'].dt.year]).agg('mean')\n",
    "plt.figure(figsize=(10,6))\n",
    "seaborn.distplot(sl45['Weekly_Sales'], bins=5, color='#6BF178', label='Ventas mensuales')\n",
    "plt.legend(bbox_to_anchor=(1, 1), loc=2, borderaxespad=0.)\n",
    "plt.ylabel('Frecuencia relativa')\n",
    "seaborn.despine()"
   ]
  },
  {
   "cell_type": "code",
   "execution_count": 66,
   "metadata": {},
   "outputs": [],
   "source": [
    "def get_normalized_variable(dataset, variable):\n",
    "    \"\"\"\n",
    "    This method will be used to normalize a variable within a defined dataset\n",
    "    \"\"\"\n",
    "    mean, std = stats.norm.fit(dataset[variable].dropna())\n",
    "    return (dataset[variable].dropna() - mean) / std"
   ]
  },
  {
   "cell_type": "code",
   "execution_count": 67,
   "metadata": {},
   "outputs": [
    {
     "name": "stdout",
     "output_type": "stream",
     "text": [
      "KS Test tienda 5:\n"
     ]
    },
    {
     "data": {
      "text/plain": [
       "KstestResult(statistic=0.09260209721011892, pvalue=0.9170690324282338)"
      ]
     },
     "execution_count": 67,
     "metadata": {},
     "output_type": "execute_result"
    }
   ],
   "source": [
    "print('KS Test tienda 5:')\n",
    "stats.kstest(get_normalized_variable(sl5, 'Weekly_Sales'), 'norm')"
   ]
  },
  {
   "cell_type": "code",
   "execution_count": 68,
   "metadata": {},
   "outputs": [
    {
     "name": "stdout",
     "output_type": "stream",
     "text": [
      "KS Test tienda 15:\n"
     ]
    },
    {
     "data": {
      "text/plain": [
       "KstestResult(statistic=0.13307991667580743, pvalue=0.512717417916444)"
      ]
     },
     "execution_count": 68,
     "metadata": {},
     "output_type": "execute_result"
    }
   ],
   "source": [
    "print('KS Test tienda 15:')\n",
    "stats.kstest(get_normalized_variable(sl15, 'Weekly_Sales'), 'norm')"
   ]
  },
  {
   "cell_type": "code",
   "execution_count": 69,
   "metadata": {},
   "outputs": [
    {
     "name": "stdout",
     "output_type": "stream",
     "text": [
      "KS Test tienda 25:\n"
     ]
    },
    {
     "data": {
      "text/plain": [
       "KstestResult(statistic=0.18198421050631586, pvalue=0.16260379827610152)"
      ]
     },
     "execution_count": 69,
     "metadata": {},
     "output_type": "execute_result"
    }
   ],
   "source": [
    "print('KS Test tienda 25:')\n",
    "stats.kstest(get_normalized_variable(sl25, 'Weekly_Sales'), 'norm')"
   ]
  },
  {
   "cell_type": "code",
   "execution_count": 70,
   "metadata": {},
   "outputs": [
    {
     "name": "stdout",
     "output_type": "stream",
     "text": [
      "KS Test tienda 35:\n"
     ]
    },
    {
     "data": {
      "text/plain": [
       "KstestResult(statistic=0.2368035429641564, pvalue=0.02928658251783439)"
      ]
     },
     "execution_count": 70,
     "metadata": {},
     "output_type": "execute_result"
    }
   ],
   "source": [
    "print('KS Test tienda 35:')\n",
    "stats.kstest(get_normalized_variable(sl35, 'Weekly_Sales'), 'norm')"
   ]
  },
  {
   "cell_type": "code",
   "execution_count": 71,
   "metadata": {},
   "outputs": [
    {
     "name": "stdout",
     "output_type": "stream",
     "text": [
      "KS Test tienda 45:\n"
     ]
    },
    {
     "data": {
      "text/plain": [
       "KstestResult(statistic=0.2320676970466904, pvalue=0.03458267703760765)"
      ]
     },
     "execution_count": 71,
     "metadata": {},
     "output_type": "execute_result"
    }
   ],
   "source": [
    "print('KS Test tienda 45:')\n",
    "stats.kstest(get_normalized_variable(sl45, 'Weekly_Sales'), 'norm')"
   ]
  },
  {
   "cell_type": "markdown",
   "metadata": {},
   "source": [
    "Luego de haber aplicado los test de normalidad con los p-valores obtenidos no podemos afirmar que se corresponda a una distribución normal en ningún caso."
   ]
  },
  {
   "cell_type": "markdown",
   "metadata": {},
   "source": [
    "### Analizar correlación entre número departamento y ventas semanales/mensuales, ¿posee alguna incidencia el número de departamento sobre las ventas?, en caso negativo eliminar esta variable de nuestros dataframes."
   ]
  },
  {
   "cell_type": "code",
   "execution_count": 72,
   "metadata": {},
   "outputs": [
    {
     "data": {
      "text/html": [
       "<div>\n",
       "<style scoped>\n",
       "    .dataframe tbody tr th:only-of-type {\n",
       "        vertical-align: middle;\n",
       "    }\n",
       "\n",
       "    .dataframe tbody tr th {\n",
       "        vertical-align: top;\n",
       "    }\n",
       "\n",
       "    .dataframe thead th {\n",
       "        text-align: right;\n",
       "    }\n",
       "</style>\n",
       "<table border=\"1\" class=\"dataframe\">\n",
       "  <thead>\n",
       "    <tr style=\"text-align: right;\">\n",
       "      <th></th>\n",
       "      <th>Weekly_Sales</th>\n",
       "      <th>Store</th>\n",
       "    </tr>\n",
       "  </thead>\n",
       "  <tbody>\n",
       "    <tr>\n",
       "      <th>Weekly_Sales</th>\n",
       "      <td>1.000000</td>\n",
       "      <td>-0.102101</td>\n",
       "    </tr>\n",
       "    <tr>\n",
       "      <th>Store</th>\n",
       "      <td>-0.102101</td>\n",
       "      <td>1.000000</td>\n",
       "    </tr>\n",
       "  </tbody>\n",
       "</table>\n",
       "</div>"
      ],
      "text/plain": [
       "              Weekly_Sales     Store\n",
       "Weekly_Sales      1.000000 -0.102101\n",
       "Store            -0.102101  1.000000"
      ]
     },
     "execution_count": 72,
     "metadata": {},
     "output_type": "execute_result"
    }
   ],
   "source": [
    "sales_features.loc[:,['Weekly_Sales','Store']].corr(method ='spearman')"
   ]
  },
  {
   "cell_type": "code",
   "execution_count": 73,
   "metadata": {},
   "outputs": [
    {
     "data": {
      "image/png": "[encoded data removed]",
      "text/plain": [
       "<Figure size 360x360 with 6 Axes>"
      ]
     },
     "metadata": {
      "needs_background": "light"
     },
     "output_type": "display_data"
    }
   ],
   "source": [
    "seaborn.pairplot(data=sales_features,\n",
    "                 vars=['Weekly_Sales','Store'],\n",
    "                 markers='*')\n",
    "seaborn.despine()"
   ]
  },
  {
   "cell_type": "markdown",
   "metadata": {},
   "source": [
    "De acuerdo al coeficiente de correlacion no puede inferirse que haya relacion lineal entre la variable Weekly Sales y Store. el grafico de dispersión refleja esta falta de relacion. por esta razon podemos eliminar la variable Departamento."
   ]
  },
  {
   "cell_type": "code",
   "execution_count": 74,
   "metadata": {},
   "outputs": [],
   "source": [
    "sales_features.drop('Dept', axis=1, inplace=True)\n",
    "sales_features.drop('MarkDown1', axis=1, inplace=True)\n",
    "sales_features.drop('MarkDown2', axis=1, inplace=True)\n",
    "sales_features.drop('MarkDown3', axis=1, inplace=True)\n",
    "sales_features.drop('MarkDown4', axis=1, inplace=True)\n",
    "sales_features.drop('MarkDown5', axis=1, inplace=True)"
   ]
  },
  {
   "cell_type": "code",
   "execution_count": 75,
   "metadata": {},
   "outputs": [
    {
     "data": {
      "text/html": [
       "<div>\n",
       "<style scoped>\n",
       "    .dataframe tbody tr th:only-of-type {\n",
       "        vertical-align: middle;\n",
       "    }\n",
       "\n",
       "    .dataframe tbody tr th {\n",
       "        vertical-align: top;\n",
       "    }\n",
       "\n",
       "    .dataframe thead th {\n",
       "        text-align: right;\n",
       "    }\n",
       "</style>\n",
       "<table border=\"1\" class=\"dataframe\">\n",
       "  <thead>\n",
       "    <tr style=\"text-align: right;\">\n",
       "      <th></th>\n",
       "      <th>Weekly_Sales</th>\n",
       "      <th>Date</th>\n",
       "      <th>Store</th>\n",
       "      <th>Temperature</th>\n",
       "      <th>Fuel_Price</th>\n",
       "      <th>CPI</th>\n",
       "      <th>Unemployment</th>\n",
       "      <th>IsHoliday</th>\n",
       "      <th>IsMarkdown</th>\n",
       "    </tr>\n",
       "  </thead>\n",
       "  <tbody>\n",
       "    <tr>\n",
       "      <th>0</th>\n",
       "      <td>24924.50</td>\n",
       "      <td>2010-05-02</td>\n",
       "      <td>1</td>\n",
       "      <td>42.31</td>\n",
       "      <td>2.572</td>\n",
       "      <td>211.096358</td>\n",
       "      <td>8.106</td>\n",
       "      <td>0</td>\n",
       "      <td>False</td>\n",
       "    </tr>\n",
       "    <tr>\n",
       "      <th>1</th>\n",
       "      <td>50605.27</td>\n",
       "      <td>2010-05-02</td>\n",
       "      <td>1</td>\n",
       "      <td>42.31</td>\n",
       "      <td>2.572</td>\n",
       "      <td>211.096358</td>\n",
       "      <td>8.106</td>\n",
       "      <td>0</td>\n",
       "      <td>False</td>\n",
       "    </tr>\n",
       "    <tr>\n",
       "      <th>2</th>\n",
       "      <td>13740.12</td>\n",
       "      <td>2010-05-02</td>\n",
       "      <td>1</td>\n",
       "      <td>42.31</td>\n",
       "      <td>2.572</td>\n",
       "      <td>211.096358</td>\n",
       "      <td>8.106</td>\n",
       "      <td>0</td>\n",
       "      <td>False</td>\n",
       "    </tr>\n",
       "    <tr>\n",
       "      <th>3</th>\n",
       "      <td>39954.04</td>\n",
       "      <td>2010-05-02</td>\n",
       "      <td>1</td>\n",
       "      <td>42.31</td>\n",
       "      <td>2.572</td>\n",
       "      <td>211.096358</td>\n",
       "      <td>8.106</td>\n",
       "      <td>0</td>\n",
       "      <td>False</td>\n",
       "    </tr>\n",
       "    <tr>\n",
       "      <th>4</th>\n",
       "      <td>32229.38</td>\n",
       "      <td>2010-05-02</td>\n",
       "      <td>1</td>\n",
       "      <td>42.31</td>\n",
       "      <td>2.572</td>\n",
       "      <td>211.096358</td>\n",
       "      <td>8.106</td>\n",
       "      <td>0</td>\n",
       "      <td>False</td>\n",
       "    </tr>\n",
       "  </tbody>\n",
       "</table>\n",
       "</div>"
      ],
      "text/plain": [
       "   Weekly_Sales       Date  Store  Temperature  Fuel_Price         CPI  \\\n",
       "0      24924.50 2010-05-02      1        42.31       2.572  211.096358   \n",
       "1      50605.27 2010-05-02      1        42.31       2.572  211.096358   \n",
       "2      13740.12 2010-05-02      1        42.31       2.572  211.096358   \n",
       "3      39954.04 2010-05-02      1        42.31       2.572  211.096358   \n",
       "4      32229.38 2010-05-02      1        42.31       2.572  211.096358   \n",
       "\n",
       "   Unemployment  IsHoliday  IsMarkdown  \n",
       "0         8.106          0       False  \n",
       "1         8.106          0       False  \n",
       "2         8.106          0       False  \n",
       "3         8.106          0       False  \n",
       "4         8.106          0       False  "
      ]
     },
     "execution_count": 75,
     "metadata": {},
     "output_type": "execute_result"
    }
   ],
   "source": [
    "sales_features.head(5)"
   ]
  },
  {
   "cell_type": "markdown",
   "metadata": {},
   "source": [
    "### Una vez que tenemos las features de interés de nuestro set de datos, aplicar algún método de normalización sobre los mismos, para evitar tener un sesgo de unas variables sobre otra (se pueden utilizar técnicas como z-score/min-max scaling). Guardar el dataset normalizado con un nombre representativo."
   ]
  },
  {
   "cell_type": "code",
   "execution_count": 76,
   "metadata": {},
   "outputs": [],
   "source": [
    "from scipy.stats import zscore"
   ]
  },
  {
   "cell_type": "code",
   "execution_count": 77,
   "metadata": {},
   "outputs": [
    {
     "data": {
      "text/html": [
       "<div>\n",
       "<style scoped>\n",
       "    .dataframe tbody tr th:only-of-type {\n",
       "        vertical-align: middle;\n",
       "    }\n",
       "\n",
       "    .dataframe tbody tr th {\n",
       "        vertical-align: top;\n",
       "    }\n",
       "\n",
       "    .dataframe thead th {\n",
       "        text-align: right;\n",
       "    }\n",
       "</style>\n",
       "<table border=\"1\" class=\"dataframe\">\n",
       "  <thead>\n",
       "    <tr style=\"text-align: right;\">\n",
       "      <th></th>\n",
       "      <th>Weekly_Sales</th>\n",
       "      <th>Store</th>\n",
       "      <th>Temperature</th>\n",
       "      <th>Fuel_Price</th>\n",
       "      <th>CPI</th>\n",
       "      <th>Unemployment</th>\n",
       "      <th>IsHoliday</th>\n",
       "    </tr>\n",
       "  </thead>\n",
       "  <tbody>\n",
       "    <tr>\n",
       "      <th>0</th>\n",
       "      <td>0.393812</td>\n",
       "      <td>-1.658153</td>\n",
       "      <td>-0.964108</td>\n",
       "      <td>-1.721081</td>\n",
       "      <td>1.018748</td>\n",
       "      <td>0.07831</td>\n",
       "      <td>-0.275085</td>\n",
       "    </tr>\n",
       "    <tr>\n",
       "      <th>1</th>\n",
       "      <td>1.524529</td>\n",
       "      <td>-1.658153</td>\n",
       "      <td>-0.964108</td>\n",
       "      <td>-1.721081</td>\n",
       "      <td>1.018748</td>\n",
       "      <td>0.07831</td>\n",
       "      <td>-0.275085</td>\n",
       "    </tr>\n",
       "    <tr>\n",
       "      <th>2</th>\n",
       "      <td>-0.098632</td>\n",
       "      <td>-1.658153</td>\n",
       "      <td>-0.964108</td>\n",
       "      <td>-1.721081</td>\n",
       "      <td>1.018748</td>\n",
       "      <td>0.07831</td>\n",
       "      <td>-0.275085</td>\n",
       "    </tr>\n",
       "    <tr>\n",
       "      <th>3</th>\n",
       "      <td>1.055559</td>\n",
       "      <td>-1.658153</td>\n",
       "      <td>-0.964108</td>\n",
       "      <td>-1.721081</td>\n",
       "      <td>1.018748</td>\n",
       "      <td>0.07831</td>\n",
       "      <td>-0.275085</td>\n",
       "    </tr>\n",
       "    <tr>\n",
       "      <th>4</th>\n",
       "      <td>0.715444</td>\n",
       "      <td>-1.658153</td>\n",
       "      <td>-0.964108</td>\n",
       "      <td>-1.721081</td>\n",
       "      <td>1.018748</td>\n",
       "      <td>0.07831</td>\n",
       "      <td>-0.275085</td>\n",
       "    </tr>\n",
       "  </tbody>\n",
       "</table>\n",
       "</div>"
      ],
      "text/plain": [
       "   Weekly_Sales     Store  Temperature  Fuel_Price       CPI  Unemployment  \\\n",
       "0      0.393812 -1.658153    -0.964108   -1.721081  1.018748       0.07831   \n",
       "1      1.524529 -1.658153    -0.964108   -1.721081  1.018748       0.07831   \n",
       "2     -0.098632 -1.658153    -0.964108   -1.721081  1.018748       0.07831   \n",
       "3      1.055559 -1.658153    -0.964108   -1.721081  1.018748       0.07831   \n",
       "4      0.715444 -1.658153    -0.964108   -1.721081  1.018748       0.07831   \n",
       "\n",
       "   IsHoliday  \n",
       "0  -0.275085  \n",
       "1  -0.275085  \n",
       "2  -0.275085  \n",
       "3  -0.275085  \n",
       "4  -0.275085  "
      ]
     },
     "execution_count": 77,
     "metadata": {},
     "output_type": "execute_result"
    }
   ],
   "source": [
    "numeric_cols = sales_features.select_dtypes(include=[np.number]).columns\n",
    "sales_features=sales_features[numeric_cols].apply(zscore)\n",
    "sales_features.head(5)"
   ]
  },
  {
   "cell_type": "markdown",
   "metadata": {},
   "source": [
    "### Finalmente, reducir los features de interés mediante sus combinaciones lineales (aplicando Principal Component Analysis). "
   ]
  },
  {
   "cell_type": "code",
   "execution_count": 78,
   "metadata": {},
   "outputs": [
    {
     "data": {
      "text/plain": [
       "PCA(copy=True, iterated_power='auto', n_components=6, random_state=None,\n",
       "  svd_solver='auto', tol=0.0, whiten=False)"
      ]
     },
     "execution_count": 78,
     "metadata": {},
     "output_type": "execute_result"
    }
   ],
   "source": [
    "from sklearn.decomposition import PCA\n",
    "pca = PCA(n_components=6)\n",
    "pca.fit(sales_features)# obtener los componentes principales"
   ]
  },
  {
   "cell_type": "code",
   "execution_count": 79,
   "metadata": {},
   "outputs": [
    {
     "name": "stdout",
     "output_type": "stream",
     "text": [
      "shape of X_pca (425796, 6)\n"
     ]
    }
   ],
   "source": [
    "sales_features_pca=pca.transform(sales_features) # convertimos nuestros datos con las nuevas dimensiones de PCA\n",
    "print(\"shape of X_pca\", sales_features_pca.shape)\n",
    " "
   ]
  },
  {
   "cell_type": "code",
   "execution_count": 80,
   "metadata": {},
   "outputs": [
    {
     "name": "stdout",
     "output_type": "stream",
     "text": [
      "[0.21697279 0.18012888 0.14834528 0.140539   0.1276846  0.11297919]\n"
     ]
    }
   ],
   "source": [
    "expl = pca.explained_variance_ratio_\n",
    "print(expl)"
   ]
  },
  {
   "cell_type": "code",
   "execution_count": 81,
   "metadata": {},
   "outputs": [
    {
     "name": "stdout",
     "output_type": "stream",
     "text": [
      "suma: 0.5454469525068202\n"
     ]
    }
   ],
   "source": [
    "print('suma:',sum(expl[0:3]))\n",
    "#Vemos que con 3 componentes tenemos algo mas del 54% de varianza explicada\n",
    " "
   ]
  },
  {
   "cell_type": "code",
   "execution_count": 82,
   "metadata": {
    "scrolled": true
   },
   "outputs": [
    {
     "data": {
      "image/png": "[encoded data removed]",
      "text/plain": [
       "<Figure size 432x288 with 1 Axes>"
      ]
     },
     "metadata": {
      "needs_background": "light"
     },
     "output_type": "display_data"
    }
   ],
   "source": [
    "#graficamos el acumulado de varianza explicada en las nuevas dimensiones\n",
    "plt.plot(np.cumsum(pca.explained_variance_ratio_))\n",
    "plt.xlabel('number of components')\n",
    "plt.ylabel('cumulative explained variance')\n",
    "plt.show()"
   ]
  },
  {
   "cell_type": "markdown",
   "metadata": {},
   "source": [
    "No vale la pena utilizar componentes principales ya que  no hay 2 variables que representen toda la variacion sino que la misma esta muy distribuida"
   ]
  },
  {
   "cell_type": "markdown",
   "metadata": {},
   "source": [
    "### Guardar el dataset con nombre representativo."
   ]
  },
  {
   "cell_type": "markdown",
   "metadata": {},
   "source": [
    "## Feedback:\n",
    "- Veo que detectan duplicados, la idea seria tambien removerlos del dataset para quedarse con un dataset limpio.\n",
    "- Me comentan que no existen campos con cadenas de texto mas que el nombre de usuario, lo cual es correcto. Pero en cuanto a variables categoricas, la fecha es una variable categorica. Probablemente cuando armemos nuestros predictores y usemos el campo fecha, vamos a necesitar tratarla numericamente, por ejemplo el numero de semana desde el inicio de nuestros datos hasta el fin, llamarle semana 0 hasta semana n. Para el caso de los booleanos tambien deberemos reemplazar con 1 y 0. Faltaria cambiar la columna is Markdown q agregan ustedes.\n",
    "- Cuando analizan los valores faltantes, en el caso de markdown y is holiday veo que hacen el analisis, pero no corrijen los valores faltantes, no seria totalmente necesario, pero a la hora de usar los datos van a necesitar tenerlos tratados. Para is_holiday deberian al menos proponer si setear la columna en False o True, un buen criterio por ejemplo para este caso seria asignarle el valor que mas se repite (False para este caso). Para el caso de is Markdown, generalmente los valores NaN son pq no hubo rebaja, con lo cual un buen criterio seria reemplazarla con 0. De todos modos veo que despues eliminan las columnas, y no estaria mal en principio pq nos interesa solo si hubo o no.\n",
    "- Que paso con esta tarea: *Verificar la consistencia de las variables: constatar que los valores de cada atributo tienen sentido, detectar valores que no son consistentes con el resto.*\n",
    "- Cuando normalizan los datos, no normalizaria los booleanos, ya que son 0 o 1. Normalizaria las variables que adquieren valores sobre los cuales no tenemos tanto control. Probaria no solo con z-score, sino tambien con una simple normalizacion entre 0 y 1 para evitar valores negativos."
   ]
  },
  {
   "cell_type": "code",
   "execution_count": null,
   "metadata": {},
   "outputs": [],
   "source": []
  }
 ],
 "metadata": {
  "kernelspec": {
   "display_name": "Python 3",
   "language": "python",
   "name": "python3"
  },
  "language_info": {
   "codemirror_mode": {
    "name": "ipython",
    "version": 3
   },
   "file_extension": ".py",
   "mimetype": "text/x-python",
   "name": "python",
   "nbconvert_exporter": "python",
   "pygments_lexer": "ipython3",
   "version": "3.7.3"
  }
 },
 "nbformat": 4,
 "nbformat_minor": 2
}
